{
  "nbformat": 4,
  "nbformat_minor": 2,
  "metadata": {
    "colab": {
      "name": "01_BeautifulSoup.ipynb",
      "provenance": [],
      "collapsed_sections": []
    },
    "kernelspec": {
      "name": "python3",
      "display_name": "Python 3.8.10 64-bit ('base': conda)"
    },
    "language_info": {
      "name": "python",
      "version": "3.8.10",
      "mimetype": "text/x-python",
      "codemirror_mode": {
        "name": "ipython",
        "version": 3
      },
      "pygments_lexer": "ipython3",
      "nbconvert_exporter": "python",
      "file_extension": ".py"
    },
    "interpreter": {
      "hash": "ce146eaafded47a42415a64ff4a3048584aa127258cae58fc3f8870ef2fbf810"
    }
  },
  "cells": [
    {
      "cell_type": "markdown",
      "source": [
        "# BeautifulSoup 사용법"
      ],
      "metadata": {
        "id": "iPGxrODjS69U"
      }
    },
    {
      "cell_type": "markdown",
      "source": [
        "- Local HTML 파일 열기"
      ],
      "metadata": {
        "id": "EbVObjk3TFke"
      }
    },
    {
      "cell_type": "code",
      "execution_count": 2,
      "source": [
        "from bs4 import BeautifulSoup\r\n",
        "with open('00_Example.html') as fp:\r\n",
        "    soup = BeautifulSoup(fp, 'html.parser')"
      ],
      "outputs": [],
      "metadata": {
        "id": "-0aZPBnaShK7"
      }
    },
    {
      "cell_type": "code",
      "execution_count": 3,
      "source": [
        "soup"
      ],
      "outputs": [
        {
          "output_type": "execute_result",
          "data": {
            "text/plain": [
              "<!DOCTYPE html>\n",
              "\n",
              "<html lang=\"en\">\n",
              "<head>\n",
              "<meta charset=\"utf-8\"/>\n",
              "<meta content=\"width=device-width, initial-scale=1.0\" name=\"viewport\"/>\n",
              "<title>Web Crawling Example</title>\n",
              "</head>\n",
              "<body>\n",
              "<div>\n",
              "<p>a</p><p>b</p><p>c</p>\n",
              "</div>\n",
              "<div class=\"ex_class sample\">\n",
              "<p>1</p><p>2</p><p>3</p>\n",
              "</div>\n",
              "<div id=\"ex_id\">\n",
              "<p>X</p><p>Y</p><p>Z</p>\n",
              "</div>\n",
              "<h1>This is a heading.</h1>\n",
              "<p>This is a paragraph.</p>\n",
              "<p>This is another paragraph.</p>\n",
              "<a class=\"a sample\" href=\"www.naver.com\">Naver</a>\n",
              "</body>\n",
              "</html>"
            ]
          },
          "metadata": {},
          "execution_count": 3
        }
      ],
      "metadata": {
        "colab": {
          "base_uri": "https://localhost:8080/"
        },
        "id": "erR8Z4IaTb-V",
        "outputId": "8b4b2d74-5e88-4959-9097-b5a39006b652"
      }
    },
    {
      "cell_type": "markdown",
      "source": [
        "- find - 한 개만 찾는 메서드"
      ],
      "metadata": {
        "id": "csuQW3X5U5i6"
      }
    },
    {
      "cell_type": "code",
      "execution_count": 4,
      "source": [
        "first_div = soup.find('div')        # find - 한 개만 찾는 메서드\r\n",
        "first_div"
      ],
      "outputs": [
        {
          "output_type": "execute_result",
          "data": {
            "text/plain": [
              "<div>\n",
              "<p>a</p><p>b</p><p>c</p>\n",
              "</div>"
            ]
          },
          "metadata": {},
          "execution_count": 4
        }
      ],
      "metadata": {
        "colab": {
          "base_uri": "https://localhost:8080/"
        },
        "id": "J21JiTJoTdkl",
        "outputId": "2aabe06f-7527-4698-b845-e85642e65faa"
      }
    },
    {
      "cell_type": "markdown",
      "source": [
        "- find_all - 모두를 찾는 메서드"
      ],
      "metadata": {
        "id": "zo1ZNoT9U9tP"
      }
    },
    {
      "cell_type": "code",
      "execution_count": 5,
      "source": [
        "all_divs = soup.find_all('div')     # find_all - 모두를 찾는 메서드\r\n",
        "all_divs"
      ],
      "outputs": [
        {
          "output_type": "execute_result",
          "data": {
            "text/plain": [
              "[<div>\n",
              " <p>a</p><p>b</p><p>c</p>\n",
              " </div>,\n",
              " <div class=\"ex_class sample\">\n",
              " <p>1</p><p>2</p><p>3</p>\n",
              " </div>,\n",
              " <div id=\"ex_id\">\n",
              " <p>X</p><p>Y</p><p>Z</p>\n",
              " </div>]"
            ]
          },
          "metadata": {},
          "execution_count": 5
        }
      ],
      "metadata": {
        "colab": {
          "base_uri": "https://localhost:8080/"
        },
        "id": "TvhvJ0e9UPKU",
        "outputId": "717101ea-9c2d-4013-870e-2239ec536024"
      }
    },
    {
      "cell_type": "code",
      "execution_count": 6,
      "source": [
        "len(all_divs)"
      ],
      "outputs": [
        {
          "output_type": "execute_result",
          "data": {
            "text/plain": [
              "3"
            ]
          },
          "metadata": {},
          "execution_count": 6
        }
      ],
      "metadata": {
        "colab": {
          "base_uri": "https://localhost:8080/"
        },
        "id": "BP53RrqmUhgw",
        "outputId": "216fa15d-a146-40cd-972c-f1c451962ba8"
      }
    },
    {
      "cell_type": "code",
      "execution_count": 7,
      "source": [
        "for div in all_divs:\r\n",
        "    print(div)"
      ],
      "outputs": [
        {
          "output_type": "stream",
          "name": "stdout",
          "text": [
            "<div>\n",
            "<p>a</p><p>b</p><p>c</p>\n",
            "</div>\n",
            "<div class=\"ex_class sample\">\n",
            "<p>1</p><p>2</p><p>3</p>\n",
            "</div>\n",
            "<div id=\"ex_id\">\n",
            "<p>X</p><p>Y</p><p>Z</p>\n",
            "</div>\n"
          ]
        }
      ],
      "metadata": {
        "colab": {
          "base_uri": "https://localhost:8080/"
        },
        "id": "UaT-_htPUo2r",
        "outputId": "b4c45bee-310f-4fc3-e2c9-ffaac3a08ae9"
      }
    },
    {
      "cell_type": "code",
      "execution_count": 8,
      "source": [
        "all_ps = soup.find_all('p')\r\n",
        "len(all_ps)"
      ],
      "outputs": [
        {
          "output_type": "execute_result",
          "data": {
            "text/plain": [
              "11"
            ]
          },
          "metadata": {},
          "execution_count": 8
        }
      ],
      "metadata": {
        "colab": {
          "base_uri": "https://localhost:8080/"
        },
        "id": "dEr_MXY2U0EO",
        "outputId": "f8732b3b-977f-47fc-9ca5-fecb0adb0d35"
      }
    },
    {
      "cell_type": "markdown",
      "source": [
        "- select_one - CSS Selector로 하나만 찾는 메서드"
      ],
      "metadata": {
        "id": "TfmhDBe6Vc9c"
      }
    },
    {
      "cell_type": "code",
      "execution_count": 9,
      "source": [
        "ex_id_div = soup.select_one('#ex_id')       # id\r\n",
        "ex_id_div"
      ],
      "outputs": [
        {
          "output_type": "execute_result",
          "data": {
            "text/plain": [
              "<div id=\"ex_id\">\n",
              "<p>X</p><p>Y</p><p>Z</p>\n",
              "</div>"
            ]
          },
          "metadata": {},
          "execution_count": 9
        }
      ],
      "metadata": {
        "colab": {
          "base_uri": "https://localhost:8080/"
        },
        "id": "PlxVm28uVRHh",
        "outputId": "8af5728c-1270-476f-9d58-53cbfaf4bd81"
      }
    },
    {
      "cell_type": "code",
      "execution_count": 10,
      "source": [
        "ex_sample_div = soup.select_one('.ex_class.sample')     # class\r\n",
        "ex_sample_div"
      ],
      "outputs": [
        {
          "output_type": "execute_result",
          "data": {
            "text/plain": [
              "<div class=\"ex_class sample\">\n",
              "<p>1</p><p>2</p><p>3</p>\n",
              "</div>"
            ]
          },
          "metadata": {},
          "execution_count": 10
        }
      ],
      "metadata": {
        "colab": {
          "base_uri": "https://localhost:8080/"
        },
        "id": "L6CM3gvLWH7v",
        "outputId": "479aaa23-a69b-4f18-a5bd-1dd6a0b010d7"
      }
    },
    {
      "cell_type": "markdown",
      "source": [
        "- select - CSS Selector로 모두를 찾는 메서드"
      ],
      "metadata": {
        "id": "s3HOFzAtWsrf"
      }
    },
    {
      "cell_type": "code",
      "execution_count": 11,
      "source": [
        "ex_id_divs = soup.select('#ex_id')      # 결과는 리스트로\r\n",
        "ex_id_divs"
      ],
      "outputs": [
        {
          "output_type": "execute_result",
          "data": {
            "text/plain": [
              "[<div id=\"ex_id\">\n",
              " <p>X</p><p>Y</p><p>Z</p>\n",
              " </div>]"
            ]
          },
          "metadata": {},
          "execution_count": 11
        }
      ],
      "metadata": {
        "colab": {
          "base_uri": "https://localhost:8080/"
        },
        "id": "pkNtE5heWgLf",
        "outputId": "6323aa88-24de-46a8-830b-6faa52ec9cc0"
      }
    },
    {
      "cell_type": "code",
      "execution_count": 12,
      "source": [
        "sample_divs = soup.select('.sample')\r\n",
        "sample_divs"
      ],
      "outputs": [
        {
          "output_type": "execute_result",
          "data": {
            "text/plain": [
              "[<div class=\"ex_class sample\">\n",
              " <p>1</p><p>2</p><p>3</p>\n",
              " </div>,\n",
              " <a class=\"a sample\" href=\"www.naver.com\">Naver</a>]"
            ]
          },
          "metadata": {},
          "execution_count": 12
        }
      ],
      "metadata": {
        "colab": {
          "base_uri": "https://localhost:8080/"
        },
        "id": "b1hfQcSoW6_m",
        "outputId": "73988851-e674-4728-bc74-955725848103"
      }
    },
    {
      "cell_type": "markdown",
      "source": [
        "- 결과 가져오기"
      ],
      "metadata": {
        "id": "JoxxzvfJXkbT"
      }
    },
    {
      "cell_type": "code",
      "execution_count": 13,
      "source": [
        "# <a class=\"a sample\" href=\"www.naver.com\">Naver</a>\r\n",
        "result = soup.select_one('.a.sample').get_text()\r\n",
        "result"
      ],
      "outputs": [
        {
          "output_type": "execute_result",
          "data": {
            "text/plain": [
              "'Naver'"
            ]
          },
          "metadata": {},
          "execution_count": 13
        }
      ],
      "metadata": {
        "colab": {
          "base_uri": "https://localhost:8080/",
          "height": 35
        },
        "id": "eG_bfmo0XSCt",
        "outputId": "a5f8e247-0c59-48ca-dd85-392358c623d1"
      }
    },
    {
      "cell_type": "code",
      "execution_count": 14,
      "source": [
        "result = soup.select_one('.a.sample').string\n",
        "result"
      ],
      "outputs": [
        {
          "output_type": "execute_result",
          "data": {
            "text/plain": [
              "'Naver'"
            ]
          },
          "metadata": {},
          "execution_count": 14
        }
      ],
      "metadata": {
        "colab": {
          "base_uri": "https://localhost:8080/",
          "height": 35
        },
        "id": "-T02NYr0X77x",
        "outputId": "23a21893-a331-4c65-bece-4f29821d1f26"
      }
    },
    {
      "cell_type": "code",
      "execution_count": 15,
      "source": [
        "# 속성 값\n",
        "href = soup.select_one('.a.sample')['href']\n",
        "href"
      ],
      "outputs": [
        {
          "output_type": "execute_result",
          "data": {
            "text/plain": [
              "'www.naver.com'"
            ]
          },
          "metadata": {},
          "execution_count": 15
        }
      ],
      "metadata": {
        "colab": {
          "base_uri": "https://localhost:8080/",
          "height": 35
        },
        "id": "A-E1pAC8YD6D",
        "outputId": "66101199-d996-4f7a-a53a-ce8d64d7b5cc"
      }
    },
    {
      "cell_type": "markdown",
      "source": [
        "- id=\"ex_id\" 인 div에서 p 내용물 가져오기\n"
      ],
      "metadata": {
        "id": "dEExGdmrYkRq"
      }
    },
    {
      "cell_type": "code",
      "execution_count": 16,
      "source": [
        "'''\n",
        "<div id=\"ex_id\">\n",
        "    <p>X</p><p>Y</p><p>Z</p>\n",
        "</div>\n",
        "'''\n",
        "ex_id_div = soup.select_one('#ex_id')\n",
        "all_ps = ex_id_div.select('p')\n",
        "for p in all_ps:\n",
        "    print(p.string)"
      ],
      "outputs": [
        {
          "output_type": "stream",
          "name": "stdout",
          "text": [
            "X\n",
            "Y\n",
            "Z\n"
          ]
        }
      ],
      "metadata": {
        "colab": {
          "base_uri": "https://localhost:8080/"
        },
        "id": "4BkuKvD0YUEI",
        "outputId": "9f3a37ee-65b6-428a-e330-912a551f9c05"
      }
    },
    {
      "cell_type": "code",
      "execution_count": null,
      "source": [],
      "outputs": [],
      "metadata": {
        "id": "vxksBO_kZgYv"
      }
    }
  ]
}