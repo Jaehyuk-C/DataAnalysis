{
  "nbformat": 4,
  "nbformat_minor": 2,
  "metadata": {
    "colab": {
      "name": "02_GenieChart.ipynb",
      "provenance": [],
      "collapsed_sections": []
    },
    "kernelspec": {
      "name": "python3",
      "display_name": "Python 3.8.10 64-bit ('base': conda)"
    },
    "language_info": {
      "name": "python",
      "version": "3.8.10",
      "mimetype": "text/x-python",
      "codemirror_mode": {
        "name": "ipython",
        "version": 3
      },
      "pygments_lexer": "ipython3",
      "nbconvert_exporter": "python",
      "file_extension": ".py"
    },
    "interpreter": {
      "hash": "ce146eaafded47a42415a64ff4a3048584aa127258cae58fc3f8870ef2fbf810"
    }
  },
  "cells": [
    {
      "cell_type": "markdown",
      "source": [
        "# Genie Top200 Chart"
      ],
      "metadata": {
        "id": "O7NYfM-Fav0_"
      }
    },
    {
      "cell_type": "code",
      "execution_count": 1,
      "source": [
        "import requests\r\n",
        "import pandas as pd"
      ],
      "outputs": [],
      "metadata": {
        "id": "blK3TDQ3arO0"
      }
    },
    {
      "cell_type": "markdown",
      "source": [
        "### 1. 인터넷 상에서 데이터 가져오기"
      ],
      "metadata": {
        "id": "SLNpA2m3fZ6t"
      }
    },
    {
      "cell_type": "code",
      "execution_count": 2,
      "source": [
        "# Genie Top200\r\n",
        "url = 'https://www.genie.co.kr/chart/top200'\r\n",
        "req = requests.get(url)\r\n",
        "html = req.text\r\n",
        "html"
      ],
      "outputs": [
        {
          "output_type": "execute_result",
          "data": {
            "text/plain": [
              "'<br>\\r\\n<br>\\r\\n<center>\\r\\n<img src=\"http://www.geniemusic.co.kr/images/common/logo_r1.png\"><br>\\r\\n<h2> <meta http-equiv=\"Content-Type\" content=\"text/html;charset=UTF-8\"> ì\\xa0\\x91ì\\x86\\x8dì\\x9a\\x94ì²\\xadì\\x9d´ ë³´ì\\x95\\x88ì\\xa0\\x95ì±\\x85ì\\x97\\x90 ì\\x9d\\x98í\\x95´ ì°¨ë\\x8b¨ë\\x90\\x98ì\\x97\\x88ì\\x8aµë\\x8b\\x88ë\\x8b¤. ë\\x8b¹ì\\x82¬ ê³\\xa0ê°\\x9dì\\x84¼í\\x84°ë¡\\x9c ë¬¸ì\\x9d\\x98í\\x95´ì£¼ì\\x8b\\xadì\\x8b\\x9cì\\x98¤.<br><br>\\r\\nThe security policy of the connection request is blocked. Contact your customer service representative.<br><br>\\r\\nì§\\x80ë\\x8b\\x88ë®¤ì§\\x81 ê³\\xa0ê°\\x9dì\\x84¼í\\x84° 1577-5337<br><br>\\r\\n</h2>\\r\\n</center>\\r\\n<br>'"
            ]
          },
          "metadata": {},
          "execution_count": 2
        }
      ],
      "metadata": {
        "colab": {
          "base_uri": "https://localhost:8080/",
          "height": 125
        },
        "id": "3AfVLR1LbHls",
        "outputId": "82cdaeac-55e2-4d83-fce8-f169a348c3d2"
      }
    },
    {
      "cell_type": "code",
      "execution_count": 3,
      "source": [
        "# Chrome User-Agent\r\n",
        "header = {'User-Agent':\r\n",
        "          'Mozilla/5.0 (X11; Linux x86_64) AppleWebKit/537.36 (KHTML, like Gecko) Chrome/51.0.2704.103 Safari/537.36'}\r\n",
        "req = requests.get(url, headers=header)\r\n",
        "html = req.text\r\n",
        "#html"
      ],
      "outputs": [],
      "metadata": {
        "id": "zWdxrFm6bdbK"
      }
    },
    {
      "cell_type": "code",
      "execution_count": 4,
      "source": [
        "from bs4 import BeautifulSoup\r\n",
        "\r\n",
        "soup = BeautifulSoup(html, 'html.parser')"
      ],
      "outputs": [],
      "metadata": {
        "id": "NrUBiKc8ccfe"
      }
    },
    {
      "cell_type": "markdown",
      "source": [
        "### 2. 찾으려고 하는 데이터의 태그 찾기"
      ],
      "metadata": {
        "id": "ptAIghiJfvSN"
      }
    },
    {
      "cell_type": "code",
      "execution_count": 5,
      "source": [
        "# <table class=\"list-wrap\">\r\n",
        "table = soup.select_one('table.list-wrap')\r\n",
        "trs = table.select('tr.list')\r\n",
        "len(trs)"
      ],
      "outputs": [
        {
          "output_type": "execute_result",
          "data": {
            "text/plain": [
              "50"
            ]
          },
          "metadata": {},
          "execution_count": 5
        }
      ],
      "metadata": {
        "colab": {
          "base_uri": "https://localhost:8080/"
        },
        "id": "qULQh4_hfVpj",
        "outputId": "97a738d4-b3b2-4d5b-e0e8-9d4ebb5fef94"
      }
    },
    {
      "cell_type": "code",
      "execution_count": 6,
      "source": [
        "trs = soup.select('tr.list')\r\n",
        "len(trs)"
      ],
      "outputs": [
        {
          "output_type": "execute_result",
          "data": {
            "text/plain": [
              "50"
            ]
          },
          "metadata": {},
          "execution_count": 6
        }
      ],
      "metadata": {
        "colab": {
          "base_uri": "https://localhost:8080/"
        },
        "id": "BJm8nMUNg1ag",
        "outputId": "b62b8f16-6ceb-423c-854b-6548b7d0bf1c"
      }
    },
    {
      "cell_type": "markdown",
      "source": [
        "### 3. 여러개의 데이터중 하나를 선택해서 원하는 정보 추출"
      ],
      "metadata": {
        "id": "yXbvHZothVm3"
      }
    },
    {
      "cell_type": "code",
      "execution_count": 7,
      "source": [
        "# rank, title, artist, album 찾기\r\n",
        "tr = trs[0]"
      ],
      "outputs": [],
      "metadata": {
        "id": "qTlMzJLYhGyU"
      }
    },
    {
      "cell_type": "code",
      "execution_count": 8,
      "source": [
        "# rank\r\n",
        "tr.select_one('.number').get_text()"
      ],
      "outputs": [
        {
          "output_type": "execute_result",
          "data": {
            "text/plain": [
              "'1\\n                                        \\n                                    \\n유지\\n\\n'"
            ]
          },
          "metadata": {},
          "execution_count": 8
        }
      ],
      "metadata": {
        "colab": {
          "base_uri": "https://localhost:8080/",
          "height": 35
        },
        "id": "SxPrX4-DiJeZ",
        "outputId": "7b4d4247-d327-45de-ca5b-8c5f3fcecb33"
      }
    },
    {
      "cell_type": "code",
      "execution_count": 9,
      "source": [
        "tr.select_one('.number').get_text().split('\\n')[0]"
      ],
      "outputs": [
        {
          "output_type": "execute_result",
          "data": {
            "text/plain": [
              "'1'"
            ]
          },
          "metadata": {},
          "execution_count": 9
        }
      ],
      "metadata": {
        "colab": {
          "base_uri": "https://localhost:8080/",
          "height": 35
        },
        "id": "mNpnJPXqiZ4u",
        "outputId": "4cf27b1c-349e-4672-a927-98231468ee9e"
      }
    },
    {
      "cell_type": "code",
      "execution_count": 10,
      "source": [
        "rank = int(tr.select_one('.number').get_text().split('\\n')[0])\r\n",
        "rank"
      ],
      "outputs": [
        {
          "output_type": "execute_result",
          "data": {
            "text/plain": [
              "1"
            ]
          },
          "metadata": {},
          "execution_count": 10
        }
      ],
      "metadata": {
        "colab": {
          "base_uri": "https://localhost:8080/"
        },
        "id": "6zyiOrcIiq5i",
        "outputId": "51f8fd62-299d-4eeb-a4b0-1c391286f8d4"
      }
    },
    {
      "cell_type": "code",
      "execution_count": 11,
      "source": [
        "# title\r\n",
        "tr.select_one('.info').select_one('.title').get_text()"
      ],
      "outputs": [
        {
          "output_type": "execute_result",
          "data": {
            "text/plain": [
              "'\\n                                        \\n                                            \\n                                        \\n                                        \\n                                        \\n                                        \\n                                            \\n                                                사진을 보다가'"
            ]
          },
          "metadata": {},
          "execution_count": 11
        }
      ],
      "metadata": {
        "colab": {
          "base_uri": "https://localhost:8080/",
          "height": 71
        },
        "id": "NbtglGvGi3It",
        "outputId": "03c0b08f-cc8f-4a5e-af41-112604bbfd44"
      }
    },
    {
      "cell_type": "code",
      "execution_count": 12,
      "source": [
        "title = tr.select_one('.info').select_one('.title').get_text().strip()\r\n",
        "title"
      ],
      "outputs": [
        {
          "output_type": "execute_result",
          "data": {
            "text/plain": [
              "'사진을 보다가'"
            ]
          },
          "metadata": {},
          "execution_count": 12
        }
      ],
      "metadata": {
        "colab": {
          "base_uri": "https://localhost:8080/",
          "height": 35
        },
        "id": "_8RtPfqxjXw3",
        "outputId": "09700d94-ce82-45f2-a155-2687f4300e50"
      }
    },
    {
      "cell_type": "code",
      "execution_count": 13,
      "source": [
        "# artist\r\n",
        "tr.select_one('.info').select_one('.artist').get_text()"
      ],
      "outputs": [
        {
          "output_type": "execute_result",
          "data": {
            "text/plain": [
              "'다비치'"
            ]
          },
          "metadata": {},
          "execution_count": 13
        }
      ],
      "metadata": {
        "colab": {
          "base_uri": "https://localhost:8080/",
          "height": 35
        },
        "id": "LNU8lJS1jhFz",
        "outputId": "c9db52ac-42c5-44b3-8059-eb2a19d866e3"
      }
    },
    {
      "cell_type": "code",
      "execution_count": 14,
      "source": [
        "artist = tr.select_one('.info').select_one('.artist').get_text().strip()\r\n",
        "artist"
      ],
      "outputs": [
        {
          "output_type": "execute_result",
          "data": {
            "text/plain": [
              "'다비치'"
            ]
          },
          "metadata": {},
          "execution_count": 14
        }
      ],
      "metadata": {
        "colab": {
          "base_uri": "https://localhost:8080/",
          "height": 35
        },
        "id": "Z8nayZxhkO3n",
        "outputId": "2271d70b-2cd7-4ae1-e46c-78edd3e3e140"
      }
    },
    {
      "cell_type": "code",
      "execution_count": 15,
      "source": [
        "# album\r\n",
        "tr.select_one('.info').select_one('.albumtitle').get_text()"
      ],
      "outputs": [
        {
          "output_type": "execute_result",
          "data": {
            "text/plain": [
              "'사진을 보다가 (REVIBE Vol.2)'"
            ]
          },
          "metadata": {},
          "execution_count": 15
        }
      ],
      "metadata": {
        "colab": {
          "base_uri": "https://localhost:8080/",
          "height": 35
        },
        "id": "q_R5NUx7kVyt",
        "outputId": "4eff44f1-b0e7-4d38-d572-11c0d7201f58"
      }
    },
    {
      "cell_type": "code",
      "execution_count": 16,
      "source": [
        "album = tr.select_one('.info').select_one('.albumtitle').get_text().strip()\r\n",
        "album"
      ],
      "outputs": [
        {
          "output_type": "execute_result",
          "data": {
            "text/plain": [
              "'사진을 보다가 (REVIBE Vol.2)'"
            ]
          },
          "metadata": {},
          "execution_count": 16
        }
      ],
      "metadata": {
        "colab": {
          "base_uri": "https://localhost:8080/",
          "height": 35
        },
        "id": "LZBeG0ypkkCG",
        "outputId": "e3228461-5a3b-4b49-d00e-27dbdee10bf1"
      }
    },
    {
      "cell_type": "markdown",
      "source": [
        "### 4. 한 페이지에 있는 모든 데이터를 반복문으로 가져오기"
      ],
      "metadata": {
        "id": "njA7SwArkvTy"
      }
    },
    {
      "cell_type": "code",
      "execution_count": 17,
      "source": [
        "rank_list, title_list, artist_list, album_list = [],[],[],[]\r\n",
        "for tr in trs:\r\n",
        "    rank = int(tr.select_one('.number').get_text().split('\\n')[0])\r\n",
        "    title = tr.select_one('.info').select_one('.title').get_text().strip()\r\n",
        "    artist = tr.select_one('.info').select_one('.artist').get_text().strip()\r\n",
        "    album = tr.select_one('.info').select_one('.albumtitle').get_text().strip()\r\n",
        "    rank_list.append(rank)\r\n",
        "    title_list.append(title)\r\n",
        "    artist_list.append(artist)\r\n",
        "    album_list.append(album)"
      ],
      "outputs": [],
      "metadata": {
        "id": "ACDXskcIkpcW"
      }
    },
    {
      "cell_type": "code",
      "execution_count": 18,
      "source": [
        "df = pd.DataFrame({\r\n",
        "    '순위':rank_list, '곡명':title_list,\r\n",
        "    '가수':artist_list, '앨범':album_list\r\n",
        "})\r\n",
        "df.tail()"
      ],
      "outputs": [
        {
          "output_type": "execute_result",
          "data": {
            "text/plain": [
              "    순위                              곡명           가수  \\\n",
              "45  46                     At My Worst  Pink Sweat$   \n",
              "46  47                      가을 우체국 앞에서          김대명   \n",
              "47  48  에잇 (Prod. & Feat. SUGA of BTS)     아이유 (IU)   \n",
              "48  49                    사랑하니까 (2021)     이보람 (씨야)   \n",
              "49  50                   추적이는 여름 비가 되어          장범준   \n",
              "\n",
              "                                      앨범  \n",
              "45                           The Prelude  \n",
              "46  슬기로운 의사생활 시즌2 OST Part 2 (tvN 목요드라마)  \n",
              "47                                    에잇  \n",
              "48                          사랑하니까 (2021)  \n",
              "49                                장범준 싱글  "
            ],
            "text/html": [
              "<div>\n",
              "<style scoped>\n",
              "    .dataframe tbody tr th:only-of-type {\n",
              "        vertical-align: middle;\n",
              "    }\n",
              "\n",
              "    .dataframe tbody tr th {\n",
              "        vertical-align: top;\n",
              "    }\n",
              "\n",
              "    .dataframe thead th {\n",
              "        text-align: right;\n",
              "    }\n",
              "</style>\n",
              "<table border=\"1\" class=\"dataframe\">\n",
              "  <thead>\n",
              "    <tr style=\"text-align: right;\">\n",
              "      <th></th>\n",
              "      <th>순위</th>\n",
              "      <th>곡명</th>\n",
              "      <th>가수</th>\n",
              "      <th>앨범</th>\n",
              "    </tr>\n",
              "  </thead>\n",
              "  <tbody>\n",
              "    <tr>\n",
              "      <th>45</th>\n",
              "      <td>46</td>\n",
              "      <td>At My Worst</td>\n",
              "      <td>Pink Sweat$</td>\n",
              "      <td>The Prelude</td>\n",
              "    </tr>\n",
              "    <tr>\n",
              "      <th>46</th>\n",
              "      <td>47</td>\n",
              "      <td>가을 우체국 앞에서</td>\n",
              "      <td>김대명</td>\n",
              "      <td>슬기로운 의사생활 시즌2 OST Part 2 (tvN 목요드라마)</td>\n",
              "    </tr>\n",
              "    <tr>\n",
              "      <th>47</th>\n",
              "      <td>48</td>\n",
              "      <td>에잇 (Prod. &amp; Feat. SUGA of BTS)</td>\n",
              "      <td>아이유 (IU)</td>\n",
              "      <td>에잇</td>\n",
              "    </tr>\n",
              "    <tr>\n",
              "      <th>48</th>\n",
              "      <td>49</td>\n",
              "      <td>사랑하니까 (2021)</td>\n",
              "      <td>이보람 (씨야)</td>\n",
              "      <td>사랑하니까 (2021)</td>\n",
              "    </tr>\n",
              "    <tr>\n",
              "      <th>49</th>\n",
              "      <td>50</td>\n",
              "      <td>추적이는 여름 비가 되어</td>\n",
              "      <td>장범준</td>\n",
              "      <td>장범준 싱글</td>\n",
              "    </tr>\n",
              "  </tbody>\n",
              "</table>\n",
              "</div>"
            ]
          },
          "metadata": {},
          "execution_count": 18
        }
      ],
      "metadata": {
        "colab": {
          "base_uri": "https://localhost:8080/",
          "height": 204
        },
        "id": "0ORHmANnln2Q",
        "outputId": "1c67261e-e8bc-464b-d234-71749a69988d"
      }
    },
    {
      "cell_type": "code",
      "execution_count": 19,
      "source": [
        "lines = []\n",
        "for tr in trs:\n",
        "    rank = int(tr.select_one('.number').get_text().split('\\n')[0])\n",
        "    title = tr.select_one('.info').select_one('.title').get_text().strip()\n",
        "    artist = tr.select_one('.info').select_one('.artist').get_text().strip()\n",
        "    album = tr.select_one('.info').select_one('.albumtitle').get_text().strip()\n",
        "    lines.append([rank, title, artist, album])"
      ],
      "outputs": [],
      "metadata": {
        "id": "uH5_5E-Cl8nq"
      }
    },
    {
      "cell_type": "code",
      "execution_count": 20,
      "source": [
        "df = pd.DataFrame(lines, columns=['순위','곡명','가수','앨범'])\n",
        "df.head()"
      ],
      "outputs": [
        {
          "output_type": "execute_result",
          "data": {
            "text/plain": [
              "   순위             곡명                 가수                             앨범\n",
              "0   1        사진을 보다가                다비치         사진을 보다가 (REVIBE Vol.2)\n",
              "1   2            신호등                이무진                            신호등\n",
              "2   3       Queendom  Red Velvet (레드벨벳)  Queendom - The 6th Mini Album\n",
              "3   4  낙하 (With 아이유)          AKMU (악뮤)                   NEXT EPISODE\n",
              "4   5         바라만 본다     MSG워너비 (M.O.M)                      MSG워너비 1집"
            ],
            "text/html": [
              "<div>\n",
              "<style scoped>\n",
              "    .dataframe tbody tr th:only-of-type {\n",
              "        vertical-align: middle;\n",
              "    }\n",
              "\n",
              "    .dataframe tbody tr th {\n",
              "        vertical-align: top;\n",
              "    }\n",
              "\n",
              "    .dataframe thead th {\n",
              "        text-align: right;\n",
              "    }\n",
              "</style>\n",
              "<table border=\"1\" class=\"dataframe\">\n",
              "  <thead>\n",
              "    <tr style=\"text-align: right;\">\n",
              "      <th></th>\n",
              "      <th>순위</th>\n",
              "      <th>곡명</th>\n",
              "      <th>가수</th>\n",
              "      <th>앨범</th>\n",
              "    </tr>\n",
              "  </thead>\n",
              "  <tbody>\n",
              "    <tr>\n",
              "      <th>0</th>\n",
              "      <td>1</td>\n",
              "      <td>사진을 보다가</td>\n",
              "      <td>다비치</td>\n",
              "      <td>사진을 보다가 (REVIBE Vol.2)</td>\n",
              "    </tr>\n",
              "    <tr>\n",
              "      <th>1</th>\n",
              "      <td>2</td>\n",
              "      <td>신호등</td>\n",
              "      <td>이무진</td>\n",
              "      <td>신호등</td>\n",
              "    </tr>\n",
              "    <tr>\n",
              "      <th>2</th>\n",
              "      <td>3</td>\n",
              "      <td>Queendom</td>\n",
              "      <td>Red Velvet (레드벨벳)</td>\n",
              "      <td>Queendom - The 6th Mini Album</td>\n",
              "    </tr>\n",
              "    <tr>\n",
              "      <th>3</th>\n",
              "      <td>4</td>\n",
              "      <td>낙하 (With 아이유)</td>\n",
              "      <td>AKMU (악뮤)</td>\n",
              "      <td>NEXT EPISODE</td>\n",
              "    </tr>\n",
              "    <tr>\n",
              "      <th>4</th>\n",
              "      <td>5</td>\n",
              "      <td>바라만 본다</td>\n",
              "      <td>MSG워너비 (M.O.M)</td>\n",
              "      <td>MSG워너비 1집</td>\n",
              "    </tr>\n",
              "  </tbody>\n",
              "</table>\n",
              "</div>"
            ]
          },
          "metadata": {},
          "execution_count": 20
        }
      ],
      "metadata": {
        "colab": {
          "base_uri": "https://localhost:8080/",
          "height": 204
        },
        "id": "9bGgR6CNm1hO",
        "outputId": "175e547e-8d3d-44f4-ed33-122e4c77bd9c"
      }
    },
    {
      "cell_type": "markdown",
      "source": [
        "### 5. 모든 페이지 데이터 가져오기"
      ],
      "metadata": {
        "id": "vLBxhG0Cn8yU"
      }
    },
    {
      "cell_type": "code",
      "execution_count": 21,
      "source": [
        "sub = 'https://www.genie.co.kr/chart/top200?ditc=D&ymd=20210817&hh=14&rtm=Y&pg='\n",
        "rank_list, title_list, artist_list, album_list = [],[],[],[]\n",
        "for page in range(1,5):\n",
        "    url = f'{sub}{page}'\n",
        "    req = requests.get(url, headers=header)\n",
        "    soup = BeautifulSoup(req.text, 'html.parser')\n",
        "    trs = soup.select('tr.list')\n",
        "    for tr in trs:\n",
        "        rank = int(tr.select_one('.number').get_text().split('\\n')[0])\n",
        "        title = tr.select_one('.info').select_one('.title').get_text().strip()\n",
        "        artist = tr.select_one('.info').select_one('.artist').get_text().strip()\n",
        "        album = tr.select_one('.info').select_one('.albumtitle').get_text().strip()\n",
        "        rank_list.append(rank)\n",
        "        title_list.append(title)\n",
        "        artist_list.append(artist)\n",
        "        album_list.append(album)"
      ],
      "outputs": [],
      "metadata": {
        "id": "PHgv24TBnBV7"
      }
    },
    {
      "cell_type": "code",
      "execution_count": 22,
      "source": [
        "df = pd.DataFrame({\n",
        "    '순위':rank_list, '곡명':title_list,\n",
        "    '가수':artist_list, '앨범':album_list\n",
        "})\n",
        "df.tail()"
      ],
      "outputs": [
        {
          "output_type": "execute_result",
          "data": {
            "text/plain": [
              "      순위                                       곡명       가수  \\\n",
              "195  196                아무도 잠들지 마라 (Nessun Dorma)      김호중   \n",
              "196  197  All I Wanna Do (K) (Feat. Hoody & Loco)      박재범   \n",
              "197  198                                     해야 해      2PM   \n",
              "198  199                             너에게 난, 나에게 넌  미도와 파라솔   \n",
              "199  200                                       파도       폴킴   \n",
              "\n",
              "                                    앨범  \n",
              "195                  The Classic Album  \n",
              "196              EVERYTHING YOU WANTED  \n",
              "197                               MUST  \n",
              "198  슬기로운 의사생활 OST Part 12 (tvN 목요드라마)  \n",
              "199             첫번째 수학여행 'Summer : re'  "
            ],
            "text/html": [
              "<div>\n",
              "<style scoped>\n",
              "    .dataframe tbody tr th:only-of-type {\n",
              "        vertical-align: middle;\n",
              "    }\n",
              "\n",
              "    .dataframe tbody tr th {\n",
              "        vertical-align: top;\n",
              "    }\n",
              "\n",
              "    .dataframe thead th {\n",
              "        text-align: right;\n",
              "    }\n",
              "</style>\n",
              "<table border=\"1\" class=\"dataframe\">\n",
              "  <thead>\n",
              "    <tr style=\"text-align: right;\">\n",
              "      <th></th>\n",
              "      <th>순위</th>\n",
              "      <th>곡명</th>\n",
              "      <th>가수</th>\n",
              "      <th>앨범</th>\n",
              "    </tr>\n",
              "  </thead>\n",
              "  <tbody>\n",
              "    <tr>\n",
              "      <th>195</th>\n",
              "      <td>196</td>\n",
              "      <td>아무도 잠들지 마라 (Nessun Dorma)</td>\n",
              "      <td>김호중</td>\n",
              "      <td>The Classic Album</td>\n",
              "    </tr>\n",
              "    <tr>\n",
              "      <th>196</th>\n",
              "      <td>197</td>\n",
              "      <td>All I Wanna Do (K) (Feat. Hoody &amp; Loco)</td>\n",
              "      <td>박재범</td>\n",
              "      <td>EVERYTHING YOU WANTED</td>\n",
              "    </tr>\n",
              "    <tr>\n",
              "      <th>197</th>\n",
              "      <td>198</td>\n",
              "      <td>해야 해</td>\n",
              "      <td>2PM</td>\n",
              "      <td>MUST</td>\n",
              "    </tr>\n",
              "    <tr>\n",
              "      <th>198</th>\n",
              "      <td>199</td>\n",
              "      <td>너에게 난, 나에게 넌</td>\n",
              "      <td>미도와 파라솔</td>\n",
              "      <td>슬기로운 의사생활 OST Part 12 (tvN 목요드라마)</td>\n",
              "    </tr>\n",
              "    <tr>\n",
              "      <th>199</th>\n",
              "      <td>200</td>\n",
              "      <td>파도</td>\n",
              "      <td>폴킴</td>\n",
              "      <td>첫번째 수학여행 'Summer : re'</td>\n",
              "    </tr>\n",
              "  </tbody>\n",
              "</table>\n",
              "</div>"
            ]
          },
          "metadata": {},
          "execution_count": 22
        }
      ],
      "metadata": {
        "colab": {
          "base_uri": "https://localhost:8080/",
          "height": 204
        },
        "id": "aDAEelKzpWjB",
        "outputId": "1b672f46-0c5e-4905-a48c-db4b0835ea07"
      }
    },
    {
      "cell_type": "code",
      "execution_count": 23,
      "source": [
        "df.to_csv('GenieTop200(210817).csv', index=False)"
      ],
      "outputs": [],
      "metadata": {
        "id": "3FXsVruWpcNo"
      }
    },
    {
      "cell_type": "code",
      "execution_count": null,
      "source": [],
      "outputs": [],
      "metadata": {
        "id": "O_jO__amqWkV"
      }
    }
  ]
}