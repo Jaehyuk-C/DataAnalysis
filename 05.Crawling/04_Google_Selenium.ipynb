{
 "cells": [
  {
   "cell_type": "code",
   "execution_count": 7,
   "source": [
    "import requests\r\n",
    "import pandas as pd"
   ],
   "outputs": [],
   "metadata": {}
  },
  {
   "cell_type": "code",
   "execution_count": 8,
   "source": [
    "# 이런 식으로는 html 코드를 불러올 수 없음\r\n",
    "url = 'https://google.com'\r\n",
    "req = requests.get(url)\r\n",
    "html = req.text\r\n",
    "#html"
   ],
   "outputs": [],
   "metadata": {}
  },
  {
   "cell_type": "code",
   "execution_count": 9,
   "source": [
    "import time\r\n",
    "from selenium import webdriver\r\n",
    "from selenium.webdriver.common.keys import Keys"
   ],
   "outputs": [],
   "metadata": {}
  },
  {
   "cell_type": "code",
   "execution_count": 10,
   "source": [
    "driver = webdriver.Chrome(r\"D:\\Workspace\\chromedriver.exe\")\r\n",
    "driver.get(url)"
   ],
   "outputs": [],
   "metadata": {}
  },
  {
   "cell_type": "code",
   "execution_count": 11,
   "source": [
    "search_box = driver.find_element_by_name('q')\r\n",
    "search_box.send_keys('ChromeDriver')\r\n",
    "search_box.send_keys(Keys.ENTER)\r\n",
    "time.sleep(2)       # 2초간 기다림"
   ],
   "outputs": [],
   "metadata": {}
  },
  {
   "cell_type": "code",
   "execution_count": 12,
   "source": [
    "divs = driver.find_elements_by_css_selector('#search .g')\r\n",
    "len(divs)"
   ],
   "outputs": [
    {
     "output_type": "execute_result",
     "data": {
      "text/plain": [
       "10"
      ]
     },
     "metadata": {},
     "execution_count": 12
    }
   ],
   "metadata": {}
  },
  {
   "cell_type": "code",
   "execution_count": 13,
   "source": [
    "div = divs[0]\r\n",
    "title = div.find_element_by_css_selector('.LC20lb.DKV0Md').text\r\n",
    "title"
   ],
   "outputs": [
    {
     "output_type": "execute_result",
     "data": {
      "text/plain": [
       "'ChromeDriver - WebDriver for Chrome - Downloads'"
      ]
     },
     "metadata": {},
     "execution_count": 13
    }
   ],
   "metadata": {}
  },
  {
   "cell_type": "code",
   "execution_count": 14,
   "source": [
    "content = div.find_element_by_css_selector('.VwiC3b.MUxGbd').text\r\n",
    "content"
   ],
   "outputs": [
    {
     "output_type": "execute_result",
     "data": {
      "text/plain": [
       "'Current Releases · ChromeDriver 93.0.4577.15 · Supports Chrome version · For more details, please see the · ChromeDriver 92.0.4515.107 · Supports Chrome version 92.'"
      ]
     },
     "metadata": {},
     "execution_count": 14
    }
   ],
   "metadata": {}
  },
  {
   "cell_type": "code",
   "execution_count": 15,
   "source": [
    "title_list, content_list = [],[]\r\n",
    "for div in divs:\r\n",
    "    title = div.find_element_by_css_selector('.LC20lb.DKV0Md').text\r\n",
    "    content = div.find_element_by_css_selector('.VwiC3b.MUxGbd').text\r\n",
    "    title_list.append(title)\r\n",
    "    content_list.append(content)"
   ],
   "outputs": [],
   "metadata": {}
  },
  {
   "cell_type": "code",
   "execution_count": 16,
   "source": [
    "df = pd.DataFrame({\r\n",
    "    '제목': title_list, '내용': content_list\r\n",
    "})\r\n",
    "df"
   ],
   "outputs": [
    {
     "output_type": "execute_result",
     "data": {
      "text/plain": [
       "                                                  제목  \\\n",
       "0    ChromeDriver - WebDriver for Chrome - Downloads   \n",
       "1    ChromeDriver - WebDriver for Chrome - Downloads   \n",
       "2  ChromeDriver - WebDriver for Chrome - Google S...   \n",
       "3  selenium) 설치하기! chromedriver 버전 오류 해결하기 - 네이버 ...   \n",
       "4              [ChromeDriver] 크롬 드라이버 버전에 따라 설정하는 방법   \n",
       "5          크롬드라이버(chromedriver) 다운로드 - Mizy's - 티스토리   \n",
       "6                              ChromeDriver - GitHub   \n",
       "7   [Python]크롬 드라이버 버전 오류 SessionNotCreatedException   \n",
       "8  selenium 버전 문제 해결 - This version of ChromeDriv...   \n",
       "9              셀레니움 설치와 크롬 드라이버 자동 처리 - 뻥뚫리는 파이썬 ...   \n",
       "\n",
       "                                                  내용  \n",
       "0  Current Releases · ChromeDriver 93.0.4577.15 ·...  \n",
       "1  Current Releases · ChromeDriver 93.0.4577.15 ·...  \n",
       "2  It provides capabilities for navigating to web...  \n",
       "3  여기에서 현재 사용중인 크롬의 버전과 일치하는 버전의 파일을 다운 받으시면 됩니다....  \n",
       "4  2020. 6. 9. — 크롬드라이버 다운로드 사이트로 갑니다. https://ch...  \n",
       "5  크롬드라이버(chromedriver) 다운로드. Python/Crawling 202...  \n",
       "6                                이 페이지에 관한 정보가 없습니다.  \n",
       "7  Chrome(executable_path=\"C:/python/chromedriver...  \n",
       "8  2019. 11. 30. — This version of ChromeDriver o...  \n",
       "9  2021. 4. 3. — 파이어폭스는 geckodriver, 크롬은 chromedr...  "
      ],
      "text/html": [
       "<div>\n",
       "<style scoped>\n",
       "    .dataframe tbody tr th:only-of-type {\n",
       "        vertical-align: middle;\n",
       "    }\n",
       "\n",
       "    .dataframe tbody tr th {\n",
       "        vertical-align: top;\n",
       "    }\n",
       "\n",
       "    .dataframe thead th {\n",
       "        text-align: right;\n",
       "    }\n",
       "</style>\n",
       "<table border=\"1\" class=\"dataframe\">\n",
       "  <thead>\n",
       "    <tr style=\"text-align: right;\">\n",
       "      <th></th>\n",
       "      <th>제목</th>\n",
       "      <th>내용</th>\n",
       "    </tr>\n",
       "  </thead>\n",
       "  <tbody>\n",
       "    <tr>\n",
       "      <th>0</th>\n",
       "      <td>ChromeDriver - WebDriver for Chrome - Downloads</td>\n",
       "      <td>Current Releases · ChromeDriver 93.0.4577.15 ·...</td>\n",
       "    </tr>\n",
       "    <tr>\n",
       "      <th>1</th>\n",
       "      <td>ChromeDriver - WebDriver for Chrome - Downloads</td>\n",
       "      <td>Current Releases · ChromeDriver 93.0.4577.15 ·...</td>\n",
       "    </tr>\n",
       "    <tr>\n",
       "      <th>2</th>\n",
       "      <td>ChromeDriver - WebDriver for Chrome - Google S...</td>\n",
       "      <td>It provides capabilities for navigating to web...</td>\n",
       "    </tr>\n",
       "    <tr>\n",
       "      <th>3</th>\n",
       "      <td>selenium) 설치하기! chromedriver 버전 오류 해결하기 - 네이버 ...</td>\n",
       "      <td>여기에서 현재 사용중인 크롬의 버전과 일치하는 버전의 파일을 다운 받으시면 됩니다....</td>\n",
       "    </tr>\n",
       "    <tr>\n",
       "      <th>4</th>\n",
       "      <td>[ChromeDriver] 크롬 드라이버 버전에 따라 설정하는 방법</td>\n",
       "      <td>2020. 6. 9. — 크롬드라이버 다운로드 사이트로 갑니다. https://ch...</td>\n",
       "    </tr>\n",
       "    <tr>\n",
       "      <th>5</th>\n",
       "      <td>크롬드라이버(chromedriver) 다운로드 - Mizy's - 티스토리</td>\n",
       "      <td>크롬드라이버(chromedriver) 다운로드. Python/Crawling 202...</td>\n",
       "    </tr>\n",
       "    <tr>\n",
       "      <th>6</th>\n",
       "      <td>ChromeDriver - GitHub</td>\n",
       "      <td>이 페이지에 관한 정보가 없습니다.</td>\n",
       "    </tr>\n",
       "    <tr>\n",
       "      <th>7</th>\n",
       "      <td>[Python]크롬 드라이버 버전 오류 SessionNotCreatedException</td>\n",
       "      <td>Chrome(executable_path=\"C:/python/chromedriver...</td>\n",
       "    </tr>\n",
       "    <tr>\n",
       "      <th>8</th>\n",
       "      <td>selenium 버전 문제 해결 - This version of ChromeDriv...</td>\n",
       "      <td>2019. 11. 30. — This version of ChromeDriver o...</td>\n",
       "    </tr>\n",
       "    <tr>\n",
       "      <th>9</th>\n",
       "      <td>셀레니움 설치와 크롬 드라이버 자동 처리 - 뻥뚫리는 파이썬 ...</td>\n",
       "      <td>2021. 4. 3. — 파이어폭스는 geckodriver, 크롬은 chromedr...</td>\n",
       "    </tr>\n",
       "  </tbody>\n",
       "</table>\n",
       "</div>"
      ]
     },
     "metadata": {},
     "execution_count": 16
    }
   ],
   "metadata": {}
  },
  {
   "cell_type": "code",
   "execution_count": 17,
   "source": [
    "driver.close()"
   ],
   "outputs": [],
   "metadata": {}
  },
  {
   "cell_type": "code",
   "execution_count": null,
   "source": [],
   "outputs": [],
   "metadata": {}
  }
 ],
 "metadata": {
  "orig_nbformat": 4,
  "language_info": {
   "name": "python",
   "version": "3.8.10",
   "mimetype": "text/x-python",
   "codemirror_mode": {
    "name": "ipython",
    "version": 3
   },
   "pygments_lexer": "ipython3",
   "nbconvert_exporter": "python",
   "file_extension": ".py"
  },
  "kernelspec": {
   "name": "python3",
   "display_name": "Python 3.8.10 64-bit ('base': conda)"
  },
  "interpreter": {
   "hash": "ce146eaafded47a42415a64ff4a3048584aa127258cae58fc3f8870ef2fbf810"
  }
 },
 "nbformat": 4,
 "nbformat_minor": 2
}