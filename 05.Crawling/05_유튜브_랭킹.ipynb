{
  "nbformat": 4,
  "nbformat_minor": 2,
  "metadata": {
    "colab": {
      "name": "05_유튜브 랭킹.ipynb",
      "provenance": [],
      "collapsed_sections": []
    },
    "kernelspec": {
      "name": "python3",
      "display_name": "Python 3.8.10 64-bit ('base': conda)"
    },
    "language_info": {
      "name": "python",
      "version": "3.8.10",
      "mimetype": "text/x-python",
      "codemirror_mode": {
        "name": "ipython",
        "version": 3
      },
      "pygments_lexer": "ipython3",
      "nbconvert_exporter": "python",
      "file_extension": ".py"
    },
    "interpreter": {
      "hash": "ce146eaafded47a42415a64ff4a3048584aa127258cae58fc3f8870ef2fbf810"
    }
  },
  "cells": [
    {
      "cell_type": "markdown",
      "source": [
        "# 유튜브 랭킹 데이터 수집하기"
      ],
      "metadata": {
        "id": "zgFgQVDwA0VN"
      }
    },
    {
      "cell_type": "code",
      "execution_count": 19,
      "source": [
        "!apt-get update > /dev/null\r\n",
        "!pip install selenium > /dev/null\r\n",
        "!apt install chromium-chromedriver > /dev/null"
      ],
      "outputs": [
        {
          "output_type": "stream",
          "name": "stderr",
          "text": [
            "������ ��θ� ã�� �� �����ϴ�.\n",
            "������ ��θ� ã�� �� �����ϴ�.\n",
            "������ ��θ� ã�� �� �����ϴ�.\n"
          ]
        }
      ],
      "metadata": {
        "colab": {
          "base_uri": "https://localhost:8080/"
        },
        "id": "p4t-LyKkAsgj",
        "outputId": "5ed97195-451c-4519-977f-27c8fca345d0"
      }
    },
    {
      "cell_type": "code",
      "execution_count": 20,
      "source": [
        "from selenium import webdriver\r\n",
        "from bs4 import BeautifulSoup\r\n",
        "import time\r\n",
        "import pandas as pd "
      ],
      "outputs": [],
      "metadata": {
        "id": "4gDZ7y0jBBCV"
      }
    },
    {
      "cell_type": "code",
      "execution_count": 21,
      "source": [
        "options = webdriver.ChromeOptions()\r\n",
        "options.add_argument('--headless')   # 화면없이 실행\r\n",
        "options.add_argument('--no-sandbox')\r\n",
        "options.add_argument(\"--single-process\")\r\n",
        "options.add_argument(\"--disable-dev-shm-usage\")\r\n",
        "driver = webdriver.Chrome(r\"D:\\Workspace\\chromedriver.exe\", options=options)"
      ],
      "outputs": [],
      "metadata": {
        "id": "WMARLdPICXnY"
      }
    },
    {
      "cell_type": "code",
      "execution_count": 22,
      "source": [
        "url = 'https://youtube-rank.com/board/bbs/board.php?bo_table=youtube&page=1'\r\n",
        "driver.get(url)\r\n",
        "# time.sleep(2)"
      ],
      "outputs": [],
      "metadata": {
        "id": "EL81Cj0eCjFL"
      }
    },
    {
      "cell_type": "code",
      "execution_count": 23,
      "source": [
        "trs = driver.find_elements_by_css_selector('.aos-init')\r\n",
        "len(trs)"
      ],
      "outputs": [
        {
          "output_type": "execute_result",
          "data": {
            "text/plain": [
              "100"
            ]
          },
          "metadata": {},
          "execution_count": 23
        }
      ],
      "metadata": {
        "colab": {
          "base_uri": "https://localhost:8080/"
        },
        "id": "pQTk_WfVC40x",
        "outputId": "eaa85093-5bce-4f20-8df6-666f3560aa3f"
      }
    },
    {
      "cell_type": "code",
      "execution_count": 24,
      "source": [
        "html = driver.page_source\r\n",
        "soup = BeautifulSoup(html, 'html.parser')"
      ],
      "outputs": [],
      "metadata": {
        "id": "hmBMsid2DjqP"
      }
    },
    {
      "cell_type": "code",
      "execution_count": 25,
      "source": [
        "# soup.select('form > table > tbody > tr')\r\n",
        "channel_list = soup.select('.aos-init')\r\n",
        "len(channel_list)"
      ],
      "outputs": [
        {
          "output_type": "execute_result",
          "data": {
            "text/plain": [
              "100"
            ]
          },
          "metadata": {},
          "execution_count": 25
        }
      ],
      "metadata": {
        "colab": {
          "base_uri": "https://localhost:8080/"
        },
        "id": "mUNNGkdRED4F",
        "outputId": "f7c393a2-4612-43e5-fae5-2cc6b61f92be"
      }
    },
    {
      "cell_type": "code",
      "execution_count": 26,
      "source": [
        "channel = channel_list[0]\r\n",
        "category = channel.select_one('p.category').get_text().strip(' \\n[]')\r\n",
        "category"
      ],
      "outputs": [
        {
          "output_type": "execute_result",
          "data": {
            "text/plain": [
              "'음악/댄스/가수'"
            ]
          },
          "metadata": {},
          "execution_count": 26
        }
      ],
      "metadata": {
        "colab": {
          "base_uri": "https://localhost:8080/",
          "height": 35
        },
        "id": "5-WYdn8eEQmC",
        "outputId": "b9bd45d0-5d91-4d69-f611-64470d45f945"
      }
    },
    {
      "cell_type": "code",
      "execution_count": 27,
      "source": [
        "name = channel.select_one('.subject a').text.strip()\r\n",
        "name"
      ],
      "outputs": [
        {
          "output_type": "execute_result",
          "data": {
            "text/plain": [
              "'BLACKPINK'"
            ]
          },
          "metadata": {},
          "execution_count": 27
        }
      ],
      "metadata": {
        "colab": {
          "base_uri": "https://localhost:8080/",
          "height": 35
        },
        "id": "7mgzzbwNFGE6",
        "outputId": "baf6498b-4f90-4b38-842f-cc3accd393ea"
      }
    },
    {
      "cell_type": "code",
      "execution_count": 28,
      "source": [
        "subscriber = channel.select_one('.subscriber_cnt').text\r\n",
        "view = channel.select_one('.view_cnt').text\r\n",
        "video = channel.select_one('.video_cnt').text[:-1]\r\n",
        "subscriber, view, video"
      ],
      "outputs": [
        {
          "output_type": "execute_result",
          "data": {
            "text/plain": [
              "('6410만', '190억1809만', '371')"
            ]
          },
          "metadata": {},
          "execution_count": 28
        }
      ],
      "metadata": {
        "colab": {
          "base_uri": "https://localhost:8080/"
        },
        "id": "eGrBMSzTFlbT",
        "outputId": "9b950988-22c5-4a67-9711-ace03672cac1"
      }
    },
    {
      "cell_type": "code",
      "execution_count": 29,
      "source": [
        "channels = []\r\n",
        "for channel in channel_list:\r\n",
        "    category = channel.select_one('p.category').get_text().strip(' \\n[]')\r\n",
        "    name = channel.select_one('.subject a').text.strip()\r\n",
        "    subscriber = channel.select_one('.subscriber_cnt').text\r\n",
        "    view = channel.select_one('.view_cnt').text\r\n",
        "    video = channel.select_one('.video_cnt').text[:-1]\r\n",
        "    channels.append([category,name,subscriber,view,video])"
      ],
      "outputs": [],
      "metadata": {
        "id": "QVz4S4vcGJd-"
      }
    },
    {
      "cell_type": "code",
      "execution_count": 30,
      "source": [
        "df = pd.DataFrame(channels, columns=['카테고리','채널명','구독자수','조회수','비디오수'])\r\n",
        "df.head()"
      ],
      "outputs": [
        {
          "output_type": "execute_result",
          "data": {
            "text/plain": [
              "       카테고리                          채널명   구독자수        조회수   비디오수\n",
              "0  음악/댄스/가수                    BLACKPINK  6410만  190억1809만    371\n",
              "1  음악/댄스/가수                  HYBE LABELS  6040만  187억3584만    654\n",
              "2  음악/댄스/가수                    BANGTANTV  5650만  122억1297만  1,579\n",
              "3  음악/댄스/가수                       SMTOWN  2850만  218억9538만  3,729\n",
              "4    키즈/어린이  Boram Tube Vlog [보람튜브 브이로그]  2650만  110억5288만    223"
            ],
            "text/html": [
              "<div>\n",
              "<style scoped>\n",
              "    .dataframe tbody tr th:only-of-type {\n",
              "        vertical-align: middle;\n",
              "    }\n",
              "\n",
              "    .dataframe tbody tr th {\n",
              "        vertical-align: top;\n",
              "    }\n",
              "\n",
              "    .dataframe thead th {\n",
              "        text-align: right;\n",
              "    }\n",
              "</style>\n",
              "<table border=\"1\" class=\"dataframe\">\n",
              "  <thead>\n",
              "    <tr style=\"text-align: right;\">\n",
              "      <th></th>\n",
              "      <th>카테고리</th>\n",
              "      <th>채널명</th>\n",
              "      <th>구독자수</th>\n",
              "      <th>조회수</th>\n",
              "      <th>비디오수</th>\n",
              "    </tr>\n",
              "  </thead>\n",
              "  <tbody>\n",
              "    <tr>\n",
              "      <th>0</th>\n",
              "      <td>음악/댄스/가수</td>\n",
              "      <td>BLACKPINK</td>\n",
              "      <td>6410만</td>\n",
              "      <td>190억1809만</td>\n",
              "      <td>371</td>\n",
              "    </tr>\n",
              "    <tr>\n",
              "      <th>1</th>\n",
              "      <td>음악/댄스/가수</td>\n",
              "      <td>HYBE LABELS</td>\n",
              "      <td>6040만</td>\n",
              "      <td>187억3584만</td>\n",
              "      <td>654</td>\n",
              "    </tr>\n",
              "    <tr>\n",
              "      <th>2</th>\n",
              "      <td>음악/댄스/가수</td>\n",
              "      <td>BANGTANTV</td>\n",
              "      <td>5650만</td>\n",
              "      <td>122억1297만</td>\n",
              "      <td>1,579</td>\n",
              "    </tr>\n",
              "    <tr>\n",
              "      <th>3</th>\n",
              "      <td>음악/댄스/가수</td>\n",
              "      <td>SMTOWN</td>\n",
              "      <td>2850만</td>\n",
              "      <td>218억9538만</td>\n",
              "      <td>3,729</td>\n",
              "    </tr>\n",
              "    <tr>\n",
              "      <th>4</th>\n",
              "      <td>키즈/어린이</td>\n",
              "      <td>Boram Tube Vlog [보람튜브 브이로그]</td>\n",
              "      <td>2650만</td>\n",
              "      <td>110억5288만</td>\n",
              "      <td>223</td>\n",
              "    </tr>\n",
              "  </tbody>\n",
              "</table>\n",
              "</div>"
            ]
          },
          "metadata": {},
          "execution_count": 30
        }
      ],
      "metadata": {
        "colab": {
          "base_uri": "https://localhost:8080/",
          "height": 204
        },
        "id": "D6pEqfIXIFFt",
        "outputId": "f752f958-6ade-4c56-b368-d95f71765062"
      }
    },
    {
      "cell_type": "code",
      "execution_count": 31,
      "source": [
        "df.tail()"
      ],
      "outputs": [
        {
          "output_type": "execute_result",
          "data": {
            "text/plain": [
              "         카테고리                    채널명  구독자수       조회수   비디오수\n",
              "95  음식/요리/레시피           까니짱 [ G-NI ]  408만  10억3471만    482\n",
              "96     키즈/어린이  로미유 스토리[Romiyu Story]  408만  10억6621만    433\n",
              "97   음악/댄스/가수              NCT DREAM  387만   3억7615만    229\n",
              "98  BJ/인물/연예인               허팝Heopop  381만  31억3892만  1,847\n",
              "99     취미/라이프        JaeYeol ASMR 재열  380만  10억1154만    970"
            ],
            "text/html": [
              "<div>\n",
              "<style scoped>\n",
              "    .dataframe tbody tr th:only-of-type {\n",
              "        vertical-align: middle;\n",
              "    }\n",
              "\n",
              "    .dataframe tbody tr th {\n",
              "        vertical-align: top;\n",
              "    }\n",
              "\n",
              "    .dataframe thead th {\n",
              "        text-align: right;\n",
              "    }\n",
              "</style>\n",
              "<table border=\"1\" class=\"dataframe\">\n",
              "  <thead>\n",
              "    <tr style=\"text-align: right;\">\n",
              "      <th></th>\n",
              "      <th>카테고리</th>\n",
              "      <th>채널명</th>\n",
              "      <th>구독자수</th>\n",
              "      <th>조회수</th>\n",
              "      <th>비디오수</th>\n",
              "    </tr>\n",
              "  </thead>\n",
              "  <tbody>\n",
              "    <tr>\n",
              "      <th>95</th>\n",
              "      <td>음식/요리/레시피</td>\n",
              "      <td>까니짱 [ G-NI ]</td>\n",
              "      <td>408만</td>\n",
              "      <td>10억3471만</td>\n",
              "      <td>482</td>\n",
              "    </tr>\n",
              "    <tr>\n",
              "      <th>96</th>\n",
              "      <td>키즈/어린이</td>\n",
              "      <td>로미유 스토리[Romiyu Story]</td>\n",
              "      <td>408만</td>\n",
              "      <td>10억6621만</td>\n",
              "      <td>433</td>\n",
              "    </tr>\n",
              "    <tr>\n",
              "      <th>97</th>\n",
              "      <td>음악/댄스/가수</td>\n",
              "      <td>NCT DREAM</td>\n",
              "      <td>387만</td>\n",
              "      <td>3억7615만</td>\n",
              "      <td>229</td>\n",
              "    </tr>\n",
              "    <tr>\n",
              "      <th>98</th>\n",
              "      <td>BJ/인물/연예인</td>\n",
              "      <td>허팝Heopop</td>\n",
              "      <td>381만</td>\n",
              "      <td>31억3892만</td>\n",
              "      <td>1,847</td>\n",
              "    </tr>\n",
              "    <tr>\n",
              "      <th>99</th>\n",
              "      <td>취미/라이프</td>\n",
              "      <td>JaeYeol ASMR 재열</td>\n",
              "      <td>380만</td>\n",
              "      <td>10억1154만</td>\n",
              "      <td>970</td>\n",
              "    </tr>\n",
              "  </tbody>\n",
              "</table>\n",
              "</div>"
            ]
          },
          "metadata": {},
          "execution_count": 31
        }
      ],
      "metadata": {
        "colab": {
          "base_uri": "https://localhost:8080/",
          "height": 204
        },
        "id": "yawdLsmiIa4y",
        "outputId": "a239e7c9-6814-4561-bb1f-dcb5542416dd"
      }
    },
    {
      "cell_type": "markdown",
      "source": [
        "- 만과 억을 숫자로 바꿔주는 함수"
      ],
      "metadata": {
        "id": "XBtRPHrTI4fd"
      }
    },
    {
      "cell_type": "code",
      "execution_count": 32,
      "source": [
        "def convert_unit(s):\r\n",
        "    #s = ''.join(s.split('억'))\r\n",
        "    s = s.replace('억', '').replace('개','').replace(',','')\r\n",
        "    s = s.replace('만', '0000')\r\n",
        "    return f'{int(s):,d}'"
      ],
      "outputs": [],
      "metadata": {
        "id": "NqPiV19WIhMJ"
      }
    },
    {
      "cell_type": "code",
      "execution_count": 33,
      "source": [
        "convert_unit('123억6,557만개')"
      ],
      "outputs": [
        {
          "output_type": "execute_result",
          "data": {
            "text/plain": [
              "'12,365,570,000'"
            ]
          },
          "metadata": {},
          "execution_count": 33
        }
      ],
      "metadata": {
        "colab": {
          "base_uri": "https://localhost:8080/",
          "height": 35
        },
        "id": "rhOcS-v6Jn8X",
        "outputId": "73ad10d2-bc0f-4cf3-8522-57cadf1e29ac"
      }
    },
    {
      "cell_type": "markdown",
      "source": [
        "- 두번째 페이지 - XPath로 찾아 Click() 하여 이동하기"
      ],
      "metadata": {
        "id": "gio7Zk4wc_US"
      }
    },
    {
      "cell_type": "code",
      "execution_count": 34,
      "source": [
        "# //*[@id=\"list-skin\"]/nav/span/a[1]\r\n",
        "driver.find_element_by_xpath('//*[@id=\"list-skin\"]/nav/span/a[1]').click()"
      ],
      "outputs": [],
      "metadata": {
        "id": "USGoi_0GJtY3"
      }
    },
    {
      "cell_type": "code",
      "execution_count": 35,
      "source": [
        "html = driver.page_source\r\n",
        "soup = BeautifulSoup(html, 'html.parser')"
      ],
      "outputs": [],
      "metadata": {
        "id": "GaFAv7IFcJ-w"
      }
    },
    {
      "cell_type": "code",
      "execution_count": 36,
      "source": [
        "channel_list = soup.select('.aos-init')\r\n",
        "len(channel_list)"
      ],
      "outputs": [
        {
          "output_type": "execute_result",
          "data": {
            "text/plain": [
              "100"
            ]
          },
          "metadata": {},
          "execution_count": 36
        }
      ],
      "metadata": {
        "colab": {
          "base_uri": "https://localhost:8080/"
        },
        "id": "7nmj20-tc19i",
        "outputId": "991014c9-942f-4af9-93ba-43b94764774f"
      }
    },
    {
      "cell_type": "code",
      "execution_count": 37,
      "source": [
        "results = []\r\n",
        "for channel in channel_list:\r\n",
        "    category = channel.select_one('p.category').get_text().strip(' \\n[]')\r\n",
        "    name = channel.select_one('.subject a').text.strip()\r\n",
        "    subscriber = convert_unit(channel.select_one('.subscriber_cnt').text)\r\n",
        "    view = convert_unit(channel.select_one('.view_cnt').text)\r\n",
        "    video = convert_unit(channel.select_one('.video_cnt').text)\r\n",
        "    results.append([category,name,subscriber,view,video])"
      ],
      "outputs": [],
      "metadata": {
        "id": "4XQABWgAcWKc"
      }
    },
    {
      "cell_type": "code",
      "execution_count": 38,
      "source": [
        "df = pd.DataFrame(results, columns=['카테고리','채널명','구독자수','조회수','비디오수'])\r\n",
        "df.head()"
      ],
      "outputs": [
        {
          "output_type": "execute_result",
          "data": {
            "text/plain": [
              "       카테고리                          채널명        구독자수             조회수   비디오수\n",
              "0  음악/댄스/가수                    BLACKPINK  64,100,000  19,018,090,000    371\n",
              "1  음악/댄스/가수                  HYBE LABELS  60,400,000  18,735,840,000    654\n",
              "2  음악/댄스/가수                    BANGTANTV  56,500,000  12,212,970,000  1,579\n",
              "3  음악/댄스/가수                       SMTOWN  28,500,000  21,895,380,000  3,729\n",
              "4    키즈/어린이  Boram Tube Vlog [보람튜브 브이로그]  26,500,000  11,052,880,000    223"
            ],
            "text/html": [
              "<div>\n",
              "<style scoped>\n",
              "    .dataframe tbody tr th:only-of-type {\n",
              "        vertical-align: middle;\n",
              "    }\n",
              "\n",
              "    .dataframe tbody tr th {\n",
              "        vertical-align: top;\n",
              "    }\n",
              "\n",
              "    .dataframe thead th {\n",
              "        text-align: right;\n",
              "    }\n",
              "</style>\n",
              "<table border=\"1\" class=\"dataframe\">\n",
              "  <thead>\n",
              "    <tr style=\"text-align: right;\">\n",
              "      <th></th>\n",
              "      <th>카테고리</th>\n",
              "      <th>채널명</th>\n",
              "      <th>구독자수</th>\n",
              "      <th>조회수</th>\n",
              "      <th>비디오수</th>\n",
              "    </tr>\n",
              "  </thead>\n",
              "  <tbody>\n",
              "    <tr>\n",
              "      <th>0</th>\n",
              "      <td>음악/댄스/가수</td>\n",
              "      <td>BLACKPINK</td>\n",
              "      <td>64,100,000</td>\n",
              "      <td>19,018,090,000</td>\n",
              "      <td>371</td>\n",
              "    </tr>\n",
              "    <tr>\n",
              "      <th>1</th>\n",
              "      <td>음악/댄스/가수</td>\n",
              "      <td>HYBE LABELS</td>\n",
              "      <td>60,400,000</td>\n",
              "      <td>18,735,840,000</td>\n",
              "      <td>654</td>\n",
              "    </tr>\n",
              "    <tr>\n",
              "      <th>2</th>\n",
              "      <td>음악/댄스/가수</td>\n",
              "      <td>BANGTANTV</td>\n",
              "      <td>56,500,000</td>\n",
              "      <td>12,212,970,000</td>\n",
              "      <td>1,579</td>\n",
              "    </tr>\n",
              "    <tr>\n",
              "      <th>3</th>\n",
              "      <td>음악/댄스/가수</td>\n",
              "      <td>SMTOWN</td>\n",
              "      <td>28,500,000</td>\n",
              "      <td>21,895,380,000</td>\n",
              "      <td>3,729</td>\n",
              "    </tr>\n",
              "    <tr>\n",
              "      <th>4</th>\n",
              "      <td>키즈/어린이</td>\n",
              "      <td>Boram Tube Vlog [보람튜브 브이로그]</td>\n",
              "      <td>26,500,000</td>\n",
              "      <td>11,052,880,000</td>\n",
              "      <td>223</td>\n",
              "    </tr>\n",
              "  </tbody>\n",
              "</table>\n",
              "</div>"
            ]
          },
          "metadata": {},
          "execution_count": 38
        }
      ],
      "metadata": {
        "colab": {
          "base_uri": "https://localhost:8080/",
          "height": 204
        },
        "id": "IBq33cTYcpBx",
        "outputId": "1c3a625f-f417-4d4d-887b-92792f23c09e"
      }
    },
    {
      "cell_type": "markdown",
      "source": [
        "## page 1에서 10까지 크롤링하기"
      ],
      "metadata": {
        "id": "WneZ02gje80g"
      }
    },
    {
      "cell_type": "code",
      "execution_count": 39,
      "source": [
        "results = []\r\n",
        "for page in range(1,11):\r\n",
        "    url = 'https://youtube-rank.com/board/bbs/board.php?bo_table=youtube&page='+str(page)\r\n",
        "    driver.get(url)\r\n",
        "    time.sleep(3)\r\n",
        "    html = driver.page_source\r\n",
        "    soup = BeautifulSoup(html, 'html.parser')\r\n",
        "    channel_list = soup.select('.aos-init')\r\n",
        "\r\n",
        "    for channel in channel_list:\r\n",
        "        category = channel.select_one('p.category').get_text().strip(' \\n[]')\r\n",
        "        name = channel.select_one('.subject a').text.strip()\r\n",
        "        subscriber = convert_unit(channel.select_one('.subscriber_cnt').text)\r\n",
        "        view = convert_unit(channel.select_one('.view_cnt').text)\r\n",
        "        video = convert_unit(channel.select_one('.video_cnt').text)\r\n",
        "        results.append([category,name,subscriber,view,video])"
      ],
      "outputs": [],
      "metadata": {
        "id": "L0pPX1pDctzq"
      }
    },
    {
      "cell_type": "code",
      "execution_count": 40,
      "source": [
        "df = pd.DataFrame(results, columns=['카테고리','채널명','구독자수','조회수','비디오수'])\r\n",
        "df.head()"
      ],
      "outputs": [
        {
          "output_type": "execute_result",
          "data": {
            "text/plain": [
              "       카테고리                          채널명        구독자수             조회수   비디오수\n",
              "0  음악/댄스/가수                    BLACKPINK  64,100,000  19,018,090,000    371\n",
              "1  음악/댄스/가수                  HYBE LABELS  60,400,000  18,735,840,000    654\n",
              "2  음악/댄스/가수                    BANGTANTV  56,500,000  12,212,970,000  1,579\n",
              "3  음악/댄스/가수                       SMTOWN  28,500,000  21,895,380,000  3,729\n",
              "4    키즈/어린이  Boram Tube Vlog [보람튜브 브이로그]  26,500,000  11,052,880,000    223"
            ],
            "text/html": [
              "<div>\n",
              "<style scoped>\n",
              "    .dataframe tbody tr th:only-of-type {\n",
              "        vertical-align: middle;\n",
              "    }\n",
              "\n",
              "    .dataframe tbody tr th {\n",
              "        vertical-align: top;\n",
              "    }\n",
              "\n",
              "    .dataframe thead th {\n",
              "        text-align: right;\n",
              "    }\n",
              "</style>\n",
              "<table border=\"1\" class=\"dataframe\">\n",
              "  <thead>\n",
              "    <tr style=\"text-align: right;\">\n",
              "      <th></th>\n",
              "      <th>카테고리</th>\n",
              "      <th>채널명</th>\n",
              "      <th>구독자수</th>\n",
              "      <th>조회수</th>\n",
              "      <th>비디오수</th>\n",
              "    </tr>\n",
              "  </thead>\n",
              "  <tbody>\n",
              "    <tr>\n",
              "      <th>0</th>\n",
              "      <td>음악/댄스/가수</td>\n",
              "      <td>BLACKPINK</td>\n",
              "      <td>64,100,000</td>\n",
              "      <td>19,018,090,000</td>\n",
              "      <td>371</td>\n",
              "    </tr>\n",
              "    <tr>\n",
              "      <th>1</th>\n",
              "      <td>음악/댄스/가수</td>\n",
              "      <td>HYBE LABELS</td>\n",
              "      <td>60,400,000</td>\n",
              "      <td>18,735,840,000</td>\n",
              "      <td>654</td>\n",
              "    </tr>\n",
              "    <tr>\n",
              "      <th>2</th>\n",
              "      <td>음악/댄스/가수</td>\n",
              "      <td>BANGTANTV</td>\n",
              "      <td>56,500,000</td>\n",
              "      <td>12,212,970,000</td>\n",
              "      <td>1,579</td>\n",
              "    </tr>\n",
              "    <tr>\n",
              "      <th>3</th>\n",
              "      <td>음악/댄스/가수</td>\n",
              "      <td>SMTOWN</td>\n",
              "      <td>28,500,000</td>\n",
              "      <td>21,895,380,000</td>\n",
              "      <td>3,729</td>\n",
              "    </tr>\n",
              "    <tr>\n",
              "      <th>4</th>\n",
              "      <td>키즈/어린이</td>\n",
              "      <td>Boram Tube Vlog [보람튜브 브이로그]</td>\n",
              "      <td>26,500,000</td>\n",
              "      <td>11,052,880,000</td>\n",
              "      <td>223</td>\n",
              "    </tr>\n",
              "  </tbody>\n",
              "</table>\n",
              "</div>"
            ]
          },
          "metadata": {},
          "execution_count": 40
        }
      ],
      "metadata": {
        "colab": {
          "base_uri": "https://localhost:8080/",
          "height": 204
        },
        "id": "3e4dOcuYgI4u",
        "outputId": "019567bb-f3c6-4160-87d3-1cc4afafe357"
      }
    },
    {
      "cell_type": "code",
      "execution_count": 41,
      "source": [
        "df.tail()"
      ],
      "outputs": [
        {
          "output_type": "execute_result",
          "data": {
            "text/plain": [
              "          카테고리        채널명     구독자수          조회수    비디오수\n",
              "995         게임        OGN  510,000  608,880,000  27,433\n",
              "996        미분류  밉지않은 관종언니  510,000   67,950,000     170\n",
              "997         게임         미소  510,000  210,780,000   3,084\n",
              "998  음식/요리/레시피      Muggo  510,000  183,720,000   1,388\n",
              "999         게임        임선비  510,000  234,290,000   1,134"
            ],
            "text/html": [
              "<div>\n",
              "<style scoped>\n",
              "    .dataframe tbody tr th:only-of-type {\n",
              "        vertical-align: middle;\n",
              "    }\n",
              "\n",
              "    .dataframe tbody tr th {\n",
              "        vertical-align: top;\n",
              "    }\n",
              "\n",
              "    .dataframe thead th {\n",
              "        text-align: right;\n",
              "    }\n",
              "</style>\n",
              "<table border=\"1\" class=\"dataframe\">\n",
              "  <thead>\n",
              "    <tr style=\"text-align: right;\">\n",
              "      <th></th>\n",
              "      <th>카테고리</th>\n",
              "      <th>채널명</th>\n",
              "      <th>구독자수</th>\n",
              "      <th>조회수</th>\n",
              "      <th>비디오수</th>\n",
              "    </tr>\n",
              "  </thead>\n",
              "  <tbody>\n",
              "    <tr>\n",
              "      <th>995</th>\n",
              "      <td>게임</td>\n",
              "      <td>OGN</td>\n",
              "      <td>510,000</td>\n",
              "      <td>608,880,000</td>\n",
              "      <td>27,433</td>\n",
              "    </tr>\n",
              "    <tr>\n",
              "      <th>996</th>\n",
              "      <td>미분류</td>\n",
              "      <td>밉지않은 관종언니</td>\n",
              "      <td>510,000</td>\n",
              "      <td>67,950,000</td>\n",
              "      <td>170</td>\n",
              "    </tr>\n",
              "    <tr>\n",
              "      <th>997</th>\n",
              "      <td>게임</td>\n",
              "      <td>미소</td>\n",
              "      <td>510,000</td>\n",
              "      <td>210,780,000</td>\n",
              "      <td>3,084</td>\n",
              "    </tr>\n",
              "    <tr>\n",
              "      <th>998</th>\n",
              "      <td>음식/요리/레시피</td>\n",
              "      <td>Muggo</td>\n",
              "      <td>510,000</td>\n",
              "      <td>183,720,000</td>\n",
              "      <td>1,388</td>\n",
              "    </tr>\n",
              "    <tr>\n",
              "      <th>999</th>\n",
              "      <td>게임</td>\n",
              "      <td>임선비</td>\n",
              "      <td>510,000</td>\n",
              "      <td>234,290,000</td>\n",
              "      <td>1,134</td>\n",
              "    </tr>\n",
              "  </tbody>\n",
              "</table>\n",
              "</div>"
            ]
          },
          "metadata": {},
          "execution_count": 41
        }
      ],
      "metadata": {
        "colab": {
          "base_uri": "https://localhost:8080/",
          "height": 204
        },
        "id": "ldz2Ol8PgZY2",
        "outputId": "71ab4124-025d-4e29-a63c-b2153e463446"
      }
    },
    {
      "cell_type": "code",
      "execution_count": 42,
      "source": [
        "df.to_csv('유튜브_순위.csv', index=None)"
      ],
      "outputs": [],
      "metadata": {
        "id": "BDTi-cn4gcfj"
      }
    },
    {
      "cell_type": "code",
      "execution_count": 43,
      "source": [
        "driver.close()"
      ],
      "outputs": [],
      "metadata": {
        "id": "3paJMcLggvke"
      }
    },
    {
      "cell_type": "code",
      "execution_count": null,
      "source": [],
      "outputs": [],
      "metadata": {
        "id": "NnulPM_6hXGY"
      }
    }
  ]
}