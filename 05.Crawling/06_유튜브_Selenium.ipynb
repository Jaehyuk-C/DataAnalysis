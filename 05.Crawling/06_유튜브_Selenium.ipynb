{
  "nbformat": 4,
  "nbformat_minor": 2,
  "metadata": {
    "colab": {
      "name": "06_유튜브-Selenium.ipynb",
      "provenance": [],
      "collapsed_sections": []
    },
    "kernelspec": {
      "name": "python3",
      "display_name": "Python 3.8.10 64-bit ('base': conda)"
    },
    "language_info": {
      "name": "python",
      "version": "3.8.10",
      "mimetype": "text/x-python",
      "codemirror_mode": {
        "name": "ipython",
        "version": 3
      },
      "pygments_lexer": "ipython3",
      "nbconvert_exporter": "python",
      "file_extension": ".py"
    },
    "widgets": {
      "application/vnd.jupyter.widget-state+json": {
        "912b9dcf69aa41b4812ec01ee21cbd89": {
          "model_module": "@jupyter-widgets/controls",
          "model_name": "HBoxModel",
          "model_module_version": "1.5.0",
          "state": {
            "_view_name": "HBoxView",
            "_dom_classes": [],
            "_model_name": "HBoxModel",
            "_view_module": "@jupyter-widgets/controls",
            "_model_module_version": "1.5.0",
            "_view_count": null,
            "_view_module_version": "1.5.0",
            "box_style": "",
            "layout": "IPY_MODEL_bf50bd0bf5194ae9b1d5aae935e63073",
            "_model_module": "@jupyter-widgets/controls",
            "children": [
              "IPY_MODEL_728f8c837c884a6ba0ae832bfa4edf7a",
              "IPY_MODEL_a0d59d4003f947d48f581e5141cc8252",
              "IPY_MODEL_ecc663d2a9604d4784acb23845017571"
            ]
          }
        },
        "bf50bd0bf5194ae9b1d5aae935e63073": {
          "model_module": "@jupyter-widgets/base",
          "model_name": "LayoutModel",
          "model_module_version": "1.2.0",
          "state": {
            "_view_name": "LayoutView",
            "grid_template_rows": null,
            "right": null,
            "justify_content": null,
            "_view_module": "@jupyter-widgets/base",
            "overflow": null,
            "_model_module_version": "1.2.0",
            "_view_count": null,
            "flex_flow": null,
            "width": null,
            "min_width": null,
            "border": null,
            "align_items": null,
            "bottom": null,
            "_model_module": "@jupyter-widgets/base",
            "top": null,
            "grid_column": null,
            "overflow_y": null,
            "overflow_x": null,
            "grid_auto_flow": null,
            "grid_area": null,
            "grid_template_columns": null,
            "flex": null,
            "_model_name": "LayoutModel",
            "justify_items": null,
            "grid_row": null,
            "max_height": null,
            "align_content": null,
            "visibility": null,
            "align_self": null,
            "height": null,
            "min_height": null,
            "padding": null,
            "grid_auto_rows": null,
            "grid_gap": null,
            "max_width": null,
            "order": null,
            "_view_module_version": "1.2.0",
            "grid_template_areas": null,
            "object_position": null,
            "object_fit": null,
            "grid_auto_columns": null,
            "margin": null,
            "display": null,
            "left": null
          }
        },
        "728f8c837c884a6ba0ae832bfa4edf7a": {
          "model_module": "@jupyter-widgets/controls",
          "model_name": "HTMLModel",
          "model_module_version": "1.5.0",
          "state": {
            "_view_name": "HTMLView",
            "style": "IPY_MODEL_6b58c99d66344622a1996fbd7b7f3500",
            "_dom_classes": [],
            "description": "",
            "_model_name": "HTMLModel",
            "placeholder": "​",
            "_view_module": "@jupyter-widgets/controls",
            "_model_module_version": "1.5.0",
            "value": "100%",
            "_view_count": null,
            "_view_module_version": "1.5.0",
            "description_tooltip": null,
            "_model_module": "@jupyter-widgets/controls",
            "layout": "IPY_MODEL_cd8022abad524c3a984ec5858203d5bf"
          }
        },
        "a0d59d4003f947d48f581e5141cc8252": {
          "model_module": "@jupyter-widgets/controls",
          "model_name": "FloatProgressModel",
          "model_module_version": "1.5.0",
          "state": {
            "_view_name": "ProgressView",
            "style": "IPY_MODEL_9c846a57f4ac4c4d9c51ebd41f407d89",
            "_dom_classes": [],
            "description": "",
            "_model_name": "FloatProgressModel",
            "bar_style": "success",
            "max": 10,
            "_view_module": "@jupyter-widgets/controls",
            "_model_module_version": "1.5.0",
            "value": 10,
            "_view_count": null,
            "_view_module_version": "1.5.0",
            "orientation": "horizontal",
            "min": 0,
            "description_tooltip": null,
            "_model_module": "@jupyter-widgets/controls",
            "layout": "IPY_MODEL_428f8678d5fa4ee5ae722ee711d05b81"
          }
        },
        "ecc663d2a9604d4784acb23845017571": {
          "model_module": "@jupyter-widgets/controls",
          "model_name": "HTMLModel",
          "model_module_version": "1.5.0",
          "state": {
            "_view_name": "HTMLView",
            "style": "IPY_MODEL_9a976b78eeb847008998a4892423394b",
            "_dom_classes": [],
            "description": "",
            "_model_name": "HTMLModel",
            "placeholder": "​",
            "_view_module": "@jupyter-widgets/controls",
            "_model_module_version": "1.5.0",
            "value": " 10/10 [07:59&lt;00:00, 48.10s/it]",
            "_view_count": null,
            "_view_module_version": "1.5.0",
            "description_tooltip": null,
            "_model_module": "@jupyter-widgets/controls",
            "layout": "IPY_MODEL_189add41d9684e02ba0d92778e8ff4bc"
          }
        },
        "6b58c99d66344622a1996fbd7b7f3500": {
          "model_module": "@jupyter-widgets/controls",
          "model_name": "DescriptionStyleModel",
          "model_module_version": "1.5.0",
          "state": {
            "_view_name": "StyleView",
            "_model_name": "DescriptionStyleModel",
            "description_width": "",
            "_view_module": "@jupyter-widgets/base",
            "_model_module_version": "1.5.0",
            "_view_count": null,
            "_view_module_version": "1.2.0",
            "_model_module": "@jupyter-widgets/controls"
          }
        },
        "cd8022abad524c3a984ec5858203d5bf": {
          "model_module": "@jupyter-widgets/base",
          "model_name": "LayoutModel",
          "model_module_version": "1.2.0",
          "state": {
            "_view_name": "LayoutView",
            "grid_template_rows": null,
            "right": null,
            "justify_content": null,
            "_view_module": "@jupyter-widgets/base",
            "overflow": null,
            "_model_module_version": "1.2.0",
            "_view_count": null,
            "flex_flow": null,
            "width": null,
            "min_width": null,
            "border": null,
            "align_items": null,
            "bottom": null,
            "_model_module": "@jupyter-widgets/base",
            "top": null,
            "grid_column": null,
            "overflow_y": null,
            "overflow_x": null,
            "grid_auto_flow": null,
            "grid_area": null,
            "grid_template_columns": null,
            "flex": null,
            "_model_name": "LayoutModel",
            "justify_items": null,
            "grid_row": null,
            "max_height": null,
            "align_content": null,
            "visibility": null,
            "align_self": null,
            "height": null,
            "min_height": null,
            "padding": null,
            "grid_auto_rows": null,
            "grid_gap": null,
            "max_width": null,
            "order": null,
            "_view_module_version": "1.2.0",
            "grid_template_areas": null,
            "object_position": null,
            "object_fit": null,
            "grid_auto_columns": null,
            "margin": null,
            "display": null,
            "left": null
          }
        },
        "9c846a57f4ac4c4d9c51ebd41f407d89": {
          "model_module": "@jupyter-widgets/controls",
          "model_name": "ProgressStyleModel",
          "model_module_version": "1.5.0",
          "state": {
            "_view_name": "StyleView",
            "_model_name": "ProgressStyleModel",
            "description_width": "",
            "_view_module": "@jupyter-widgets/base",
            "_model_module_version": "1.5.0",
            "_view_count": null,
            "_view_module_version": "1.2.0",
            "bar_color": null,
            "_model_module": "@jupyter-widgets/controls"
          }
        },
        "428f8678d5fa4ee5ae722ee711d05b81": {
          "model_module": "@jupyter-widgets/base",
          "model_name": "LayoutModel",
          "model_module_version": "1.2.0",
          "state": {
            "_view_name": "LayoutView",
            "grid_template_rows": null,
            "right": null,
            "justify_content": null,
            "_view_module": "@jupyter-widgets/base",
            "overflow": null,
            "_model_module_version": "1.2.0",
            "_view_count": null,
            "flex_flow": null,
            "width": null,
            "min_width": null,
            "border": null,
            "align_items": null,
            "bottom": null,
            "_model_module": "@jupyter-widgets/base",
            "top": null,
            "grid_column": null,
            "overflow_y": null,
            "overflow_x": null,
            "grid_auto_flow": null,
            "grid_area": null,
            "grid_template_columns": null,
            "flex": null,
            "_model_name": "LayoutModel",
            "justify_items": null,
            "grid_row": null,
            "max_height": null,
            "align_content": null,
            "visibility": null,
            "align_self": null,
            "height": null,
            "min_height": null,
            "padding": null,
            "grid_auto_rows": null,
            "grid_gap": null,
            "max_width": null,
            "order": null,
            "_view_module_version": "1.2.0",
            "grid_template_areas": null,
            "object_position": null,
            "object_fit": null,
            "grid_auto_columns": null,
            "margin": null,
            "display": null,
            "left": null
          }
        },
        "9a976b78eeb847008998a4892423394b": {
          "model_module": "@jupyter-widgets/controls",
          "model_name": "DescriptionStyleModel",
          "model_module_version": "1.5.0",
          "state": {
            "_view_name": "StyleView",
            "_model_name": "DescriptionStyleModel",
            "description_width": "",
            "_view_module": "@jupyter-widgets/base",
            "_model_module_version": "1.5.0",
            "_view_count": null,
            "_view_module_version": "1.2.0",
            "_model_module": "@jupyter-widgets/controls"
          }
        },
        "189add41d9684e02ba0d92778e8ff4bc": {
          "model_module": "@jupyter-widgets/base",
          "model_name": "LayoutModel",
          "model_module_version": "1.2.0",
          "state": {
            "_view_name": "LayoutView",
            "grid_template_rows": null,
            "right": null,
            "justify_content": null,
            "_view_module": "@jupyter-widgets/base",
            "overflow": null,
            "_model_module_version": "1.2.0",
            "_view_count": null,
            "flex_flow": null,
            "width": null,
            "min_width": null,
            "border": null,
            "align_items": null,
            "bottom": null,
            "_model_module": "@jupyter-widgets/base",
            "top": null,
            "grid_column": null,
            "overflow_y": null,
            "overflow_x": null,
            "grid_auto_flow": null,
            "grid_area": null,
            "grid_template_columns": null,
            "flex": null,
            "_model_name": "LayoutModel",
            "justify_items": null,
            "grid_row": null,
            "max_height": null,
            "align_content": null,
            "visibility": null,
            "align_self": null,
            "height": null,
            "min_height": null,
            "padding": null,
            "grid_auto_rows": null,
            "grid_gap": null,
            "max_width": null,
            "order": null,
            "_view_module_version": "1.2.0",
            "grid_template_areas": null,
            "object_position": null,
            "object_fit": null,
            "grid_auto_columns": null,
            "margin": null,
            "display": null,
            "left": null
          }
        }
      }
    },
    "interpreter": {
      "hash": "ce146eaafded47a42415a64ff4a3048584aa127258cae58fc3f8870ef2fbf810"
    }
  },
  "cells": [
    {
      "cell_type": "markdown",
      "source": [
        "# Selenium 만으로 유튜브 랭킹 수집하기"
      ],
      "metadata": {
        "id": "WuqRknC7qZS-"
      }
    },
    {
      "cell_type": "code",
      "execution_count": 19,
      "source": [
        "pip install selenium"
      ],
      "outputs": [
        {
          "output_type": "stream",
          "name": "stdout",
          "text": [
            "Note: you may need to restart the kernel to use updated packages.\n"
          ]
        },
        {
          "output_type": "stream",
          "name": "stderr",
          "text": [
            "'C:\\Users\\Jaehyuk'��(��) ���� �Ǵ� �ܺ� ����, ������ �� �ִ� ���α׷�, �Ǵ�\n",
            "��ġ ������ �ƴմϴ�.\n"
          ]
        }
      ],
      "metadata": {}
    },
    {
      "cell_type": "code",
      "execution_count": 20,
      "source": [
        "!apt-get update > /dev/null\r\n",
        "!pip install selenium > /dev/null\r\n",
        "!apt install chromium-chromedriver > /dev/null"
      ],
      "outputs": [
        {
          "output_type": "stream",
          "name": "stderr",
          "text": [
            "������ ��θ� ã�� �� �����ϴ�.\n",
            "������ ��θ� ã�� �� �����ϴ�.\n",
            "������ ��θ� ã�� �� �����ϴ�.\n"
          ]
        }
      ],
      "metadata": {
        "colab": {
          "base_uri": "https://localhost:8080/"
        },
        "id": "d47IeG8sqSTd",
        "outputId": "71f77c8e-0ecd-4ed4-8cee-8909deb38a4a"
      }
    },
    {
      "cell_type": "code",
      "execution_count": 21,
      "source": [
        "from selenium import webdriver\r\n",
        "from selenium.webdriver.common.keys import Keys\r\n",
        "import time\r\n",
        "import pandas as pd "
      ],
      "outputs": [],
      "metadata": {
        "id": "qrm5T5XgqgKO"
      }
    },
    {
      "cell_type": "code",
      "execution_count": 22,
      "source": [
        "options = webdriver.ChromeOptions()\r\n",
        "options.add_argument('--headless')   # 화면없이 실행\r\n",
        "options.add_argument('--no-sandbox')\r\n",
        "options.add_argument(\"--single-process\")\r\n",
        "options.add_argument(\"--disable-dev-shm-usage\")\r\n",
        "driver = webdriver.Chrome(r\"D:\\Workspace\\chromedriver.exe\", options=options)"
      ],
      "outputs": [],
      "metadata": {
        "id": "BEee60U-qyZ7"
      }
    },
    {
      "cell_type": "code",
      "execution_count": 23,
      "source": [
        "url = 'https://youtube-rank.com/board/bbs/board.php?bo_table=youtube&page=1'\r\n",
        "driver.get(url)\r\n",
        "# time.sleep(2)"
      ],
      "outputs": [],
      "metadata": {
        "id": "0La3TsI1q07T"
      }
    },
    {
      "cell_type": "code",
      "execution_count": 24,
      "source": [
        "# pop-up 창이 있으면, pop-up 창을 닫고 메인 윈도우로 되돌아 옴\r\n",
        "window_len = len(driver.window_handles)\r\n",
        "if window_len == 2:\r\n",
        "    driver.switch_to.window(driver.window_handles[1])\r\n",
        "    driver.close()\r\n",
        "\r\n",
        "# 화면의 끝까지 PageDown으로 내려보냄\r\n",
        "driver.switch_to.window(driver.window_handles[0])\r\n",
        "body = driver.find_element_by_css_selector('body')\r\n",
        "for i in range(30):\r\n",
        "    body.send_keys(Keys.PAGE_DOWN)\r\n",
        "    time.sleep(1)"
      ],
      "outputs": [],
      "metadata": {
        "id": "WbR7LGMUq4MV"
      }
    },
    {
      "cell_type": "code",
      "execution_count": 25,
      "source": [
        "trs = driver.find_elements_by_css_selector('.aos-init')\r\n",
        "len(trs)"
      ],
      "outputs": [
        {
          "output_type": "execute_result",
          "data": {
            "text/plain": [
              "100"
            ]
          },
          "metadata": {},
          "execution_count": 25
        }
      ],
      "metadata": {
        "colab": {
          "base_uri": "https://localhost:8080/"
        },
        "id": "m08crLaarECv",
        "outputId": "4ab307b8-4524-4afe-f947-9077d4784a50"
      }
    },
    {
      "cell_type": "code",
      "execution_count": 26,
      "source": [
        "trs[99].text"
      ],
      "outputs": [
        {
          "output_type": "execute_result",
          "data": {
            "text/plain": [
              "'101\\n[취미/라이프]\\nJaeYeol ASMR 재열 0\\n먹방 asmr mukbang \"jaeyeol asmr\" 재열 MUKBANG \"ASMR MUKBANG\"\\n380만 10억1154만 970개 3,106'"
            ]
          },
          "metadata": {},
          "execution_count": 26
        }
      ],
      "metadata": {
        "colab": {
          "base_uri": "https://localhost:8080/",
          "height": 52
        },
        "id": "pZW_nKiaxCQb",
        "outputId": "a0ebb09d-6279-4c7e-8f49-ee0be764ad27"
      }
    },
    {
      "cell_type": "code",
      "execution_count": 27,
      "source": [
        "def convert_unit(s):\r\n",
        "    #s = ''.join(s.split('억'))\r\n",
        "    s = s.replace('억', '').replace('개','').replace(',','')\r\n",
        "    s = s.replace('만', '0000')\r\n",
        "    return f'{int(s):,d}'"
      ],
      "outputs": [],
      "metadata": {
        "id": "vLCGi0yQstE8"
      }
    },
    {
      "cell_type": "code",
      "execution_count": 28,
      "source": [
        "tr = trs[99]\r\n",
        "category = tr.find_element_by_css_selector('p.category').text.strip(' \\n[]')\r\n",
        "category"
      ],
      "outputs": [
        {
          "output_type": "execute_result",
          "data": {
            "text/plain": [
              "'취미/라이프'"
            ]
          },
          "metadata": {},
          "execution_count": 28
        }
      ],
      "metadata": {
        "colab": {
          "base_uri": "https://localhost:8080/",
          "height": 35
        },
        "id": "FujFvVoRuUA2",
        "outputId": "e96f4eb7-2319-4a7b-8505-8298694c0a81"
      }
    },
    {
      "cell_type": "code",
      "execution_count": 29,
      "source": [
        "name = tr.find_element_by_css_selector('.subject a').text.strip()\r\n",
        "subscriber = convert_unit(tr.find_element_by_css_selector('.subscriber_cnt').text)\r\n",
        "view = convert_unit(tr.find_element_by_css_selector('.view_cnt').text)\r\n",
        "video = convert_unit(tr.find_element_by_css_selector('.video_cnt').text)\r\n",
        "name, subscriber, view, video"
      ],
      "outputs": [
        {
          "output_type": "execute_result",
          "data": {
            "text/plain": [
              "('JaeYeol ASMR 재열', '3,800,000', '1,011,540,000', '970')"
            ]
          },
          "metadata": {},
          "execution_count": 29
        }
      ],
      "metadata": {
        "colab": {
          "base_uri": "https://localhost:8080/"
        },
        "id": "chzRS1WKub96",
        "outputId": "ee2b54f1-c7d4-453c-cfe9-faaffe9ad21a"
      }
    },
    {
      "cell_type": "code",
      "execution_count": 30,
      "source": [
        "from tqdm.notebook import tqdm"
      ],
      "outputs": [],
      "metadata": {
        "id": "pRfzmvkRzpXb"
      }
    },
    {
      "cell_type": "code",
      "execution_count": 31,
      "source": [
        "results = []\r\n",
        "for page in tqdm(range(1,11)):\r\n",
        "    #print(page)\r\n",
        "    url = 'https://youtube-rank.com/board/bbs/board.php?bo_table=youtube&page='+str(page)\r\n",
        "    driver.get(url)\r\n",
        "    time.sleep(2)\r\n",
        "\r\n",
        "    window_len = len(driver.window_handles)\r\n",
        "    if window_len == 2:\r\n",
        "        driver.switch_to.window(driver.window_handles[1])\r\n",
        "        driver.close()\r\n",
        "    driver.switch_to.window(driver.window_handles[0])\r\n",
        "    body = driver.find_element_by_css_selector('body')\r\n",
        "    for i in range(30):\r\n",
        "        body.send_keys(Keys.PAGE_DOWN)\r\n",
        "        time.sleep(1)\r\n",
        "\r\n",
        "    trs = driver.find_elements_by_css_selector('.aos-init')\r\n",
        "\r\n",
        "    for tr in trs:\r\n",
        "        category = tr.find_element_by_css_selector('p.category').text.strip(' \\n[]')\r\n",
        "        #category = channel.select_one('p.category').get_text().strip(' \\n[]')\r\n",
        "        name = tr.find_element_by_css_selector('.subject a').text.strip()\r\n",
        "        #name = channel.select_one('.subject a').text.strip()\r\n",
        "        subscriber = convert_unit(tr.find_element_by_css_selector('.subscriber_cnt').text)\r\n",
        "        #subscriber = convert_unit(channel.select_one('.subscriber_cnt').text)\r\n",
        "        view = convert_unit(tr.find_element_by_css_selector('.view_cnt').text)\r\n",
        "        #view = convert_unit(channel.select_one('.view_cnt').text)\r\n",
        "        video = convert_unit(tr.find_element_by_css_selector('.video_cnt').text)\r\n",
        "        #video = convert_unit(channel.select_one('.video_cnt').text)\r\n",
        "        results.append([category,name,subscriber,view,video])"
      ],
      "outputs": [
        {
          "output_type": "display_data",
          "data": {
            "text/plain": [
              "  0%|          | 0/10 [00:00<?, ?it/s]"
            ],
            "application/vnd.jupyter.widget-view+json": {
              "version_major": 2,
              "version_minor": 0,
              "model_id": "970f402c479f4261a0c14d9e66e49fba"
            }
          },
          "metadata": {}
        }
      ],
      "metadata": {
        "colab": {
          "base_uri": "https://localhost:8080/",
          "height": 49,
          "referenced_widgets": [
            "912b9dcf69aa41b4812ec01ee21cbd89",
            "bf50bd0bf5194ae9b1d5aae935e63073",
            "728f8c837c884a6ba0ae832bfa4edf7a",
            "a0d59d4003f947d48f581e5141cc8252",
            "ecc663d2a9604d4784acb23845017571",
            "6b58c99d66344622a1996fbd7b7f3500",
            "cd8022abad524c3a984ec5858203d5bf",
            "9c846a57f4ac4c4d9c51ebd41f407d89",
            "428f8678d5fa4ee5ae722ee711d05b81",
            "9a976b78eeb847008998a4892423394b",
            "189add41d9684e02ba0d92778e8ff4bc"
          ]
        },
        "id": "sjBi0UoUsN_1",
        "outputId": "5b56aa45-3211-4c92-f2d8-f4b55c73dc5e"
      }
    },
    {
      "cell_type": "code",
      "execution_count": 32,
      "source": [
        "df = pd.DataFrame(results, columns=['카테고리','채널명','구독자수','조회수','비디오수'])\r\n",
        "df.head()"
      ],
      "outputs": [
        {
          "output_type": "execute_result",
          "data": {
            "text/plain": [
              "       카테고리                          채널명        구독자수             조회수   비디오수\n",
              "0  음악/댄스/가수                    BLACKPINK  64,100,000  19,018,090,000    371\n",
              "1  음악/댄스/가수                  HYBE LABELS  60,400,000  18,735,840,000    654\n",
              "2  음악/댄스/가수                    BANGTANTV  56,500,000  12,212,970,000  1,579\n",
              "3  음악/댄스/가수                       SMTOWN  28,500,000  21,895,380,000  3,729\n",
              "4    키즈/어린이  Boram Tube Vlog [보람튜브 브이로그]  26,500,000  11,052,880,000    223"
            ],
            "text/html": [
              "<div>\n",
              "<style scoped>\n",
              "    .dataframe tbody tr th:only-of-type {\n",
              "        vertical-align: middle;\n",
              "    }\n",
              "\n",
              "    .dataframe tbody tr th {\n",
              "        vertical-align: top;\n",
              "    }\n",
              "\n",
              "    .dataframe thead th {\n",
              "        text-align: right;\n",
              "    }\n",
              "</style>\n",
              "<table border=\"1\" class=\"dataframe\">\n",
              "  <thead>\n",
              "    <tr style=\"text-align: right;\">\n",
              "      <th></th>\n",
              "      <th>카테고리</th>\n",
              "      <th>채널명</th>\n",
              "      <th>구독자수</th>\n",
              "      <th>조회수</th>\n",
              "      <th>비디오수</th>\n",
              "    </tr>\n",
              "  </thead>\n",
              "  <tbody>\n",
              "    <tr>\n",
              "      <th>0</th>\n",
              "      <td>음악/댄스/가수</td>\n",
              "      <td>BLACKPINK</td>\n",
              "      <td>64,100,000</td>\n",
              "      <td>19,018,090,000</td>\n",
              "      <td>371</td>\n",
              "    </tr>\n",
              "    <tr>\n",
              "      <th>1</th>\n",
              "      <td>음악/댄스/가수</td>\n",
              "      <td>HYBE LABELS</td>\n",
              "      <td>60,400,000</td>\n",
              "      <td>18,735,840,000</td>\n",
              "      <td>654</td>\n",
              "    </tr>\n",
              "    <tr>\n",
              "      <th>2</th>\n",
              "      <td>음악/댄스/가수</td>\n",
              "      <td>BANGTANTV</td>\n",
              "      <td>56,500,000</td>\n",
              "      <td>12,212,970,000</td>\n",
              "      <td>1,579</td>\n",
              "    </tr>\n",
              "    <tr>\n",
              "      <th>3</th>\n",
              "      <td>음악/댄스/가수</td>\n",
              "      <td>SMTOWN</td>\n",
              "      <td>28,500,000</td>\n",
              "      <td>21,895,380,000</td>\n",
              "      <td>3,729</td>\n",
              "    </tr>\n",
              "    <tr>\n",
              "      <th>4</th>\n",
              "      <td>키즈/어린이</td>\n",
              "      <td>Boram Tube Vlog [보람튜브 브이로그]</td>\n",
              "      <td>26,500,000</td>\n",
              "      <td>11,052,880,000</td>\n",
              "      <td>223</td>\n",
              "    </tr>\n",
              "  </tbody>\n",
              "</table>\n",
              "</div>"
            ]
          },
          "metadata": {},
          "execution_count": 32
        }
      ],
      "metadata": {
        "colab": {
          "base_uri": "https://localhost:8080/",
          "height": 204
        },
        "id": "nEiGxsdvwv77",
        "outputId": "ad2fa1f3-c7e2-4490-dd01-6dc54f3f7163"
      }
    },
    {
      "cell_type": "code",
      "execution_count": 33,
      "source": [
        "df.tail()"
      ],
      "outputs": [
        {
          "output_type": "execute_result",
          "data": {
            "text/plain": [
              "          카테고리        채널명     구독자수          조회수    비디오수\n",
              "995         게임        OGN  510,000  608,880,000  27,433\n",
              "996        미분류  밉지않은 관종언니  510,000   67,950,000     170\n",
              "997         게임         미소  510,000  210,780,000   3,084\n",
              "998  음식/요리/레시피      Muggo  510,000  183,720,000   1,388\n",
              "999         게임        임선비  510,000  234,290,000   1,134"
            ],
            "text/html": [
              "<div>\n",
              "<style scoped>\n",
              "    .dataframe tbody tr th:only-of-type {\n",
              "        vertical-align: middle;\n",
              "    }\n",
              "\n",
              "    .dataframe tbody tr th {\n",
              "        vertical-align: top;\n",
              "    }\n",
              "\n",
              "    .dataframe thead th {\n",
              "        text-align: right;\n",
              "    }\n",
              "</style>\n",
              "<table border=\"1\" class=\"dataframe\">\n",
              "  <thead>\n",
              "    <tr style=\"text-align: right;\">\n",
              "      <th></th>\n",
              "      <th>카테고리</th>\n",
              "      <th>채널명</th>\n",
              "      <th>구독자수</th>\n",
              "      <th>조회수</th>\n",
              "      <th>비디오수</th>\n",
              "    </tr>\n",
              "  </thead>\n",
              "  <tbody>\n",
              "    <tr>\n",
              "      <th>995</th>\n",
              "      <td>게임</td>\n",
              "      <td>OGN</td>\n",
              "      <td>510,000</td>\n",
              "      <td>608,880,000</td>\n",
              "      <td>27,433</td>\n",
              "    </tr>\n",
              "    <tr>\n",
              "      <th>996</th>\n",
              "      <td>미분류</td>\n",
              "      <td>밉지않은 관종언니</td>\n",
              "      <td>510,000</td>\n",
              "      <td>67,950,000</td>\n",
              "      <td>170</td>\n",
              "    </tr>\n",
              "    <tr>\n",
              "      <th>997</th>\n",
              "      <td>게임</td>\n",
              "      <td>미소</td>\n",
              "      <td>510,000</td>\n",
              "      <td>210,780,000</td>\n",
              "      <td>3,084</td>\n",
              "    </tr>\n",
              "    <tr>\n",
              "      <th>998</th>\n",
              "      <td>음식/요리/레시피</td>\n",
              "      <td>Muggo</td>\n",
              "      <td>510,000</td>\n",
              "      <td>183,720,000</td>\n",
              "      <td>1,388</td>\n",
              "    </tr>\n",
              "    <tr>\n",
              "      <th>999</th>\n",
              "      <td>게임</td>\n",
              "      <td>임선비</td>\n",
              "      <td>510,000</td>\n",
              "      <td>234,290,000</td>\n",
              "      <td>1,134</td>\n",
              "    </tr>\n",
              "  </tbody>\n",
              "</table>\n",
              "</div>"
            ]
          },
          "metadata": {},
          "execution_count": 33
        }
      ],
      "metadata": {
        "colab": {
          "base_uri": "https://localhost:8080/",
          "height": 204
        },
        "id": "zXYwZBM4t5Jb",
        "outputId": "72f91f96-a444-4e4b-f2c4-af929a33cdc3"
      }
    },
    {
      "cell_type": "code",
      "execution_count": null,
      "source": [],
      "outputs": [],
      "metadata": {
        "id": "vf6gwSJM22Kq"
      }
    }
  ]
}